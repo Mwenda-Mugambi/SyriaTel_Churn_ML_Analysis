{
 "cells": [
  {
   "cell_type": "markdown",
   "metadata": {},
   "source": [
    "# SyriaTel Customer Churn Prediction\n",
    "Author: **Mwenda Mugambi**\n",
    "\n",
    "---"
   ]
  },
  {
   "cell_type": "markdown",
   "metadata": {},
   "source": [
    "# 1. Business Understanding"
   ]
  },
  {
   "cell_type": "markdown",
   "metadata": {},
   "source": [
    "### Stakeholder: \n",
    "The Marketing and Retention Department of SyriaTel, a telecommunications company."
   ]
  },
  {
   "cell_type": "markdown",
   "metadata": {},
   "source": [
    "### Business Problem: \n",
    "Customer retention is a significant challenge for many businesses, especially in industries with competitive markets such as telecommunications. When customers churn, or stop doing business, the company not only loses future revenue but also the money they invested in acquiring that customer. Identifying patterns or traits of customers who are likely to churn can help the Marketing and Retention Department proactively offer targeted promotions, incentives, or interventions to retain these customers, thereby maximizing revenue."
   ]
  },
  {
   "cell_type": "markdown",
   "metadata": {},
   "source": [
    "# 2. Data Understanding"
   ]
  },
  {
   "cell_type": "markdown",
   "metadata": {},
   "source": [
    "In this section, we'll load the dataset, explore its structure, examine its features, and identify any potential data quality issues. This will give us a solid foundation upon which we can build our subsequent analysis and modeling."
   ]
  },
  {
   "cell_type": "markdown",
   "metadata": {},
   "source": [
    "### i). Loading Libraries\n",
    "First, we'll import all the necessary libraries that we'll use throughout the project."
   ]
  },
  {
   "cell_type": "code",
   "execution_count": 1,
   "metadata": {},
   "outputs": [],
   "source": [
    "# Importing the necessary libraries\n",
    "\n",
    "import numpy as np\n",
    "import pandas as pd\n",
    "import seaborn as sns\n",
    "import warnings\n",
    "warnings.filterwarnings('ignore')\n",
    "import matplotlib.pyplot as plt\n",
    "%matplotlib inline\n",
    "\n",
    "from sklearn.model_selection import train_test_split\n",
    "from sklearn.preprocessing import StandardScaler, LabelEncoder\n",
    "from sklearn.metrics import classification_report, accuracy_score, roc_auc_score, confusion_matrix\n",
    "from sklearn.linear_model import LogisticRegression\n",
    "from sklearn.tree import DecisionTreeClassifier\n",
    "from sklearn.ensemble import RandomForestClassifier, GradientBoostingClassifier\n",
    "from sklearn.model_selection import GridSearchCV\n",
    "from sklearn.model_selection import RandomizedSearchCV\n",
    "from sklearn.model_selection import cross_val_score"
   ]
  },
  {
   "cell_type": "markdown",
   "metadata": {},
   "source": [
    "### ii). Loading the Dataset\n",
    "Next, we'll load the dataset and take a quick look at its first few rows.\n",
    "We will be using the **\"Churn in Telecom's dataset\"** from https://www.kaggle.com/datasets/becksddf/churn-in-telecoms-dataset"
   ]
  },
  {
   "cell_type": "code",
   "execution_count": 2,
   "metadata": {},
   "outputs": [
    {
     "data": {
      "text/html": [
       "<div>\n",
       "<style scoped>\n",
       "    .dataframe tbody tr th:only-of-type {\n",
       "        vertical-align: middle;\n",
       "    }\n",
       "\n",
       "    .dataframe tbody tr th {\n",
       "        vertical-align: top;\n",
       "    }\n",
       "\n",
       "    .dataframe thead th {\n",
       "        text-align: right;\n",
       "    }\n",
       "</style>\n",
       "<table border=\"1\" class=\"dataframe\">\n",
       "  <thead>\n",
       "    <tr style=\"text-align: right;\">\n",
       "      <th></th>\n",
       "      <th>state</th>\n",
       "      <th>account length</th>\n",
       "      <th>area code</th>\n",
       "      <th>phone number</th>\n",
       "      <th>international plan</th>\n",
       "      <th>voice mail plan</th>\n",
       "      <th>number vmail messages</th>\n",
       "      <th>total day minutes</th>\n",
       "      <th>total day calls</th>\n",
       "      <th>total day charge</th>\n",
       "      <th>...</th>\n",
       "      <th>total eve calls</th>\n",
       "      <th>total eve charge</th>\n",
       "      <th>total night minutes</th>\n",
       "      <th>total night calls</th>\n",
       "      <th>total night charge</th>\n",
       "      <th>total intl minutes</th>\n",
       "      <th>total intl calls</th>\n",
       "      <th>total intl charge</th>\n",
       "      <th>customer service calls</th>\n",
       "      <th>churn</th>\n",
       "    </tr>\n",
       "  </thead>\n",
       "  <tbody>\n",
       "    <tr>\n",
       "      <th>0</th>\n",
       "      <td>KS</td>\n",
       "      <td>128</td>\n",
       "      <td>415</td>\n",
       "      <td>382-4657</td>\n",
       "      <td>no</td>\n",
       "      <td>yes</td>\n",
       "      <td>25</td>\n",
       "      <td>265.1</td>\n",
       "      <td>110</td>\n",
       "      <td>45.07</td>\n",
       "      <td>...</td>\n",
       "      <td>99</td>\n",
       "      <td>16.78</td>\n",
       "      <td>244.7</td>\n",
       "      <td>91</td>\n",
       "      <td>11.01</td>\n",
       "      <td>10.0</td>\n",
       "      <td>3</td>\n",
       "      <td>2.70</td>\n",
       "      <td>1</td>\n",
       "      <td>False</td>\n",
       "    </tr>\n",
       "    <tr>\n",
       "      <th>1</th>\n",
       "      <td>OH</td>\n",
       "      <td>107</td>\n",
       "      <td>415</td>\n",
       "      <td>371-7191</td>\n",
       "      <td>no</td>\n",
       "      <td>yes</td>\n",
       "      <td>26</td>\n",
       "      <td>161.6</td>\n",
       "      <td>123</td>\n",
       "      <td>27.47</td>\n",
       "      <td>...</td>\n",
       "      <td>103</td>\n",
       "      <td>16.62</td>\n",
       "      <td>254.4</td>\n",
       "      <td>103</td>\n",
       "      <td>11.45</td>\n",
       "      <td>13.7</td>\n",
       "      <td>3</td>\n",
       "      <td>3.70</td>\n",
       "      <td>1</td>\n",
       "      <td>False</td>\n",
       "    </tr>\n",
       "    <tr>\n",
       "      <th>2</th>\n",
       "      <td>NJ</td>\n",
       "      <td>137</td>\n",
       "      <td>415</td>\n",
       "      <td>358-1921</td>\n",
       "      <td>no</td>\n",
       "      <td>no</td>\n",
       "      <td>0</td>\n",
       "      <td>243.4</td>\n",
       "      <td>114</td>\n",
       "      <td>41.38</td>\n",
       "      <td>...</td>\n",
       "      <td>110</td>\n",
       "      <td>10.30</td>\n",
       "      <td>162.6</td>\n",
       "      <td>104</td>\n",
       "      <td>7.32</td>\n",
       "      <td>12.2</td>\n",
       "      <td>5</td>\n",
       "      <td>3.29</td>\n",
       "      <td>0</td>\n",
       "      <td>False</td>\n",
       "    </tr>\n",
       "    <tr>\n",
       "      <th>3</th>\n",
       "      <td>OH</td>\n",
       "      <td>84</td>\n",
       "      <td>408</td>\n",
       "      <td>375-9999</td>\n",
       "      <td>yes</td>\n",
       "      <td>no</td>\n",
       "      <td>0</td>\n",
       "      <td>299.4</td>\n",
       "      <td>71</td>\n",
       "      <td>50.90</td>\n",
       "      <td>...</td>\n",
       "      <td>88</td>\n",
       "      <td>5.26</td>\n",
       "      <td>196.9</td>\n",
       "      <td>89</td>\n",
       "      <td>8.86</td>\n",
       "      <td>6.6</td>\n",
       "      <td>7</td>\n",
       "      <td>1.78</td>\n",
       "      <td>2</td>\n",
       "      <td>False</td>\n",
       "    </tr>\n",
       "    <tr>\n",
       "      <th>4</th>\n",
       "      <td>OK</td>\n",
       "      <td>75</td>\n",
       "      <td>415</td>\n",
       "      <td>330-6626</td>\n",
       "      <td>yes</td>\n",
       "      <td>no</td>\n",
       "      <td>0</td>\n",
       "      <td>166.7</td>\n",
       "      <td>113</td>\n",
       "      <td>28.34</td>\n",
       "      <td>...</td>\n",
       "      <td>122</td>\n",
       "      <td>12.61</td>\n",
       "      <td>186.9</td>\n",
       "      <td>121</td>\n",
       "      <td>8.41</td>\n",
       "      <td>10.1</td>\n",
       "      <td>3</td>\n",
       "      <td>2.73</td>\n",
       "      <td>3</td>\n",
       "      <td>False</td>\n",
       "    </tr>\n",
       "  </tbody>\n",
       "</table>\n",
       "<p>5 rows × 21 columns</p>\n",
       "</div>"
      ],
      "text/plain": [
       "  state  account length  area code phone number international plan  \\\n",
       "0    KS             128        415     382-4657                 no   \n",
       "1    OH             107        415     371-7191                 no   \n",
       "2    NJ             137        415     358-1921                 no   \n",
       "3    OH              84        408     375-9999                yes   \n",
       "4    OK              75        415     330-6626                yes   \n",
       "\n",
       "  voice mail plan  number vmail messages  total day minutes  total day calls  \\\n",
       "0             yes                     25              265.1              110   \n",
       "1             yes                     26              161.6              123   \n",
       "2              no                      0              243.4              114   \n",
       "3              no                      0              299.4               71   \n",
       "4              no                      0              166.7              113   \n",
       "\n",
       "   total day charge  ...  total eve calls  total eve charge  \\\n",
       "0             45.07  ...               99             16.78   \n",
       "1             27.47  ...              103             16.62   \n",
       "2             41.38  ...              110             10.30   \n",
       "3             50.90  ...               88              5.26   \n",
       "4             28.34  ...              122             12.61   \n",
       "\n",
       "   total night minutes  total night calls  total night charge  \\\n",
       "0                244.7                 91               11.01   \n",
       "1                254.4                103               11.45   \n",
       "2                162.6                104                7.32   \n",
       "3                196.9                 89                8.86   \n",
       "4                186.9                121                8.41   \n",
       "\n",
       "   total intl minutes  total intl calls  total intl charge  \\\n",
       "0                10.0                 3               2.70   \n",
       "1                13.7                 3               3.70   \n",
       "2                12.2                 5               3.29   \n",
       "3                 6.6                 7               1.78   \n",
       "4                10.1                 3               2.73   \n",
       "\n",
       "   customer service calls  churn  \n",
       "0                       1  False  \n",
       "1                       1  False  \n",
       "2                       0  False  \n",
       "3                       2  False  \n",
       "4                       3  False  \n",
       "\n",
       "[5 rows x 21 columns]"
      ]
     },
     "execution_count": 2,
     "metadata": {},
     "output_type": "execute_result"
    }
   ],
   "source": [
    "# Loading the dataset\n",
    "df = pd.read_csv(\"Dataset/data.csv\")\n",
    "\n",
    "# Displaying the first few rows of the dataset\n",
    "df.head()"
   ]
  },
  {
   "cell_type": "markdown",
   "metadata": {},
   "source": [
    "### iii). Dataset Structure\n",
    "Now we go into understanding the dataset's structure, such as the number of rows, columns, data types, and any missing values."
   ]
  },
  {
   "cell_type": "code",
   "execution_count": 3,
   "metadata": {},
   "outputs": [
    {
     "data": {
      "text/plain": [
       "(3333, 21)"
      ]
     },
     "execution_count": 3,
     "metadata": {},
     "output_type": "execute_result"
    }
   ],
   "source": [
    "# Checking the shape of our data\n",
    "df.shape"
   ]
  },
  {
   "cell_type": "markdown",
   "metadata": {},
   "source": [
    "We can see that we have 3333 rows and 21 columns "
   ]
  },
  {
   "cell_type": "code",
   "execution_count": 4,
   "metadata": {},
   "outputs": [
    {
     "data": {
      "text/plain": [
       "Index(['state', 'account length', 'area code', 'phone number',\n",
       "       'international plan', 'voice mail plan', 'number vmail messages',\n",
       "       'total day minutes', 'total day calls', 'total day charge',\n",
       "       'total eve minutes', 'total eve calls', 'total eve charge',\n",
       "       'total night minutes', 'total night calls', 'total night charge',\n",
       "       'total intl minutes', 'total intl calls', 'total intl charge',\n",
       "       'customer service calls', 'churn'],\n",
       "      dtype='object')"
      ]
     },
     "execution_count": 4,
     "metadata": {},
     "output_type": "execute_result"
    }
   ],
   "source": [
    "#Chscking the names of our 21 columns\n",
    "df.columns"
   ]
  },
  {
   "cell_type": "markdown",
   "metadata": {},
   "source": [
    "### Column Descriptions\n",
    "---\n",
    "- <code><b>state</b></code>, string. 2-letter code of the US state of customer residence\n",
    "- <code><b>account_length</b></code>, numerical. Number of months the customer has been with the current telco provider\n",
    "- <code><b>area_code</b></code>, numerical, 3 digit area code.\n",
    "- <code><b>phone_number</b></code>, string, customer's phone number\n",
    "- <code><b>international_plan</b></code>, (yes/no). The customer has international plan.\n",
    "- <code><b>voice_mail_plan</b></code>, (yes/no). The customer has voice mail plan.\n",
    "- <code><b>number_vmail_messages</b></code>, numerical. Number of voice-mail messages.\n",
    "- <code><b>total_day_minutes</b></code>, numerical. Total minutes of day calls.\n",
    "- <code><b>total_day_calls</b></code>, numerical. Total minutes of day calls.\n",
    "- <code><b>total_day_charge</b></code>, numerical. Total charge of day calls.\n",
    "- <code><b>total_eve_minutes</b></code>, numerical. Total minutes of evening calls.\n",
    "- <code><b>total_eve_calls</b></code>, numerical. Total number of evening calls.\n",
    "- <code><b>total_eve_charge</b></code>, numerical. Total charge of evening calls.\n",
    "- <code><b>total_night_minutes</b></code>, numerical. Total minutes of night calls.\n",
    "- <code><b>total_night_calls</b></code>, numerical. Total number of night calls.\n",
    "- <code><b>total_night_charge</b></code>, numerical. Total charge of night calls.\n",
    "- <code><b>total_intl_minutes</b></code>, numerical. Total minutes of international calls.\n",
    "- <code><b>total_intl_calls</b></code>, numerical. Total number of international calls.\n",
    "- <code><b>total_intl_charge</b></code>, numerical. Total charge of international calls\n",
    "- <code><b>number_customer_service_calls</b></code>, numerical. Number of calls to customer service\n",
    "- <code><b>churn</b></code>, (yes/no). Customer churn - target variable."
   ]
  },
  {
   "cell_type": "code",
   "execution_count": 5,
   "metadata": {},
   "outputs": [
    {
     "name": "stdout",
     "output_type": "stream",
     "text": [
      "<class 'pandas.core.frame.DataFrame'>\n",
      "RangeIndex: 3333 entries, 0 to 3332\n",
      "Data columns (total 21 columns):\n",
      " #   Column                  Non-Null Count  Dtype  \n",
      "---  ------                  --------------  -----  \n",
      " 0   state                   3333 non-null   object \n",
      " 1   account length          3333 non-null   int64  \n",
      " 2   area code               3333 non-null   int64  \n",
      " 3   phone number            3333 non-null   object \n",
      " 4   international plan      3333 non-null   object \n",
      " 5   voice mail plan         3333 non-null   object \n",
      " 6   number vmail messages   3333 non-null   int64  \n",
      " 7   total day minutes       3333 non-null   float64\n",
      " 8   total day calls         3333 non-null   int64  \n",
      " 9   total day charge        3333 non-null   float64\n",
      " 10  total eve minutes       3333 non-null   float64\n",
      " 11  total eve calls         3333 non-null   int64  \n",
      " 12  total eve charge        3333 non-null   float64\n",
      " 13  total night minutes     3333 non-null   float64\n",
      " 14  total night calls       3333 non-null   int64  \n",
      " 15  total night charge      3333 non-null   float64\n",
      " 16  total intl minutes      3333 non-null   float64\n",
      " 17  total intl calls        3333 non-null   int64  \n",
      " 18  total intl charge       3333 non-null   float64\n",
      " 19  customer service calls  3333 non-null   int64  \n",
      " 20  churn                   3333 non-null   bool   \n",
      "dtypes: bool(1), float64(8), int64(8), object(4)\n",
      "memory usage: 524.2+ KB\n"
     ]
    }
   ],
   "source": [
    "# Displaying general information about the dataset \n",
    "# to confirm if the datatypes in the description match entries in our dataert\n",
    "df.info()"
   ]
  },
  {
   "cell_type": "markdown",
   "metadata": {},
   "source": [
    "From this output, it seems that the majority of the numerical columns have the appropriate data type. However, a few columns are currently categorized as the object data type and require conversion to a numerical format. Specifically, the \"international plan\" and the \"voice mail plan\" that contain entries as \"yes\" or \"no\" and should be converted to \"1\" for \"yes\" and \"0\" for \"no.\" Similarly, the \"churn\" column would also need a change in its data type, with its entries being modified to numerical values,  \"1\" for \"True\" and \"0\" for \"False.\""
   ]
  },
  {
   "cell_type": "code",
   "execution_count": 6,
   "metadata": {},
   "outputs": [
    {
     "data": {
      "text/plain": [
       "state                     0\n",
       "account length            0\n",
       "area code                 0\n",
       "phone number              0\n",
       "international plan        0\n",
       "voice mail plan           0\n",
       "number vmail messages     0\n",
       "total day minutes         0\n",
       "total day calls           0\n",
       "total day charge          0\n",
       "total eve minutes         0\n",
       "total eve calls           0\n",
       "total eve charge          0\n",
       "total night minutes       0\n",
       "total night calls         0\n",
       "total night charge        0\n",
       "total intl minutes        0\n",
       "total intl calls          0\n",
       "total intl charge         0\n",
       "customer service calls    0\n",
       "churn                     0\n",
       "dtype: int64"
      ]
     },
     "execution_count": 6,
     "metadata": {},
     "output_type": "execute_result"
    }
   ],
   "source": [
    "# Checking for missing values\n",
    "df.isna().sum()"
   ]
  },
  {
   "cell_type": "markdown",
   "metadata": {},
   "source": [
    "We can see that we do not have any missing values to take care of."
   ]
  },
  {
   "cell_type": "markdown",
   "metadata": {},
   "source": [
    "### iv).Basic Statistics\n",
    "Here, We'll get a brief statistical overview of the numerical features in the dataset."
   ]
  },
  {
   "cell_type": "code",
   "execution_count": 7,
   "metadata": {},
   "outputs": [
    {
     "data": {
      "text/html": [
       "<div>\n",
       "<style scoped>\n",
       "    .dataframe tbody tr th:only-of-type {\n",
       "        vertical-align: middle;\n",
       "    }\n",
       "\n",
       "    .dataframe tbody tr th {\n",
       "        vertical-align: top;\n",
       "    }\n",
       "\n",
       "    .dataframe thead th {\n",
       "        text-align: right;\n",
       "    }\n",
       "</style>\n",
       "<table border=\"1\" class=\"dataframe\">\n",
       "  <thead>\n",
       "    <tr style=\"text-align: right;\">\n",
       "      <th></th>\n",
       "      <th>account length</th>\n",
       "      <th>area code</th>\n",
       "      <th>number vmail messages</th>\n",
       "      <th>total day minutes</th>\n",
       "      <th>total day calls</th>\n",
       "      <th>total day charge</th>\n",
       "      <th>total eve minutes</th>\n",
       "      <th>total eve calls</th>\n",
       "      <th>total eve charge</th>\n",
       "      <th>total night minutes</th>\n",
       "      <th>total night calls</th>\n",
       "      <th>total night charge</th>\n",
       "      <th>total intl minutes</th>\n",
       "      <th>total intl calls</th>\n",
       "      <th>total intl charge</th>\n",
       "      <th>customer service calls</th>\n",
       "    </tr>\n",
       "  </thead>\n",
       "  <tbody>\n",
       "    <tr>\n",
       "      <th>count</th>\n",
       "      <td>3333.000000</td>\n",
       "      <td>3333.000000</td>\n",
       "      <td>3333.000000</td>\n",
       "      <td>3333.000000</td>\n",
       "      <td>3333.000000</td>\n",
       "      <td>3333.000000</td>\n",
       "      <td>3333.000000</td>\n",
       "      <td>3333.000000</td>\n",
       "      <td>3333.000000</td>\n",
       "      <td>3333.000000</td>\n",
       "      <td>3333.000000</td>\n",
       "      <td>3333.000000</td>\n",
       "      <td>3333.000000</td>\n",
       "      <td>3333.000000</td>\n",
       "      <td>3333.000000</td>\n",
       "      <td>3333.000000</td>\n",
       "    </tr>\n",
       "    <tr>\n",
       "      <th>mean</th>\n",
       "      <td>101.064806</td>\n",
       "      <td>437.182418</td>\n",
       "      <td>8.099010</td>\n",
       "      <td>179.775098</td>\n",
       "      <td>100.435644</td>\n",
       "      <td>30.562307</td>\n",
       "      <td>200.980348</td>\n",
       "      <td>100.114311</td>\n",
       "      <td>17.083540</td>\n",
       "      <td>200.872037</td>\n",
       "      <td>100.107711</td>\n",
       "      <td>9.039325</td>\n",
       "      <td>10.237294</td>\n",
       "      <td>4.479448</td>\n",
       "      <td>2.764581</td>\n",
       "      <td>1.562856</td>\n",
       "    </tr>\n",
       "    <tr>\n",
       "      <th>std</th>\n",
       "      <td>39.822106</td>\n",
       "      <td>42.371290</td>\n",
       "      <td>13.688365</td>\n",
       "      <td>54.467389</td>\n",
       "      <td>20.069084</td>\n",
       "      <td>9.259435</td>\n",
       "      <td>50.713844</td>\n",
       "      <td>19.922625</td>\n",
       "      <td>4.310668</td>\n",
       "      <td>50.573847</td>\n",
       "      <td>19.568609</td>\n",
       "      <td>2.275873</td>\n",
       "      <td>2.791840</td>\n",
       "      <td>2.461214</td>\n",
       "      <td>0.753773</td>\n",
       "      <td>1.315491</td>\n",
       "    </tr>\n",
       "    <tr>\n",
       "      <th>min</th>\n",
       "      <td>1.000000</td>\n",
       "      <td>408.000000</td>\n",
       "      <td>0.000000</td>\n",
       "      <td>0.000000</td>\n",
       "      <td>0.000000</td>\n",
       "      <td>0.000000</td>\n",
       "      <td>0.000000</td>\n",
       "      <td>0.000000</td>\n",
       "      <td>0.000000</td>\n",
       "      <td>23.200000</td>\n",
       "      <td>33.000000</td>\n",
       "      <td>1.040000</td>\n",
       "      <td>0.000000</td>\n",
       "      <td>0.000000</td>\n",
       "      <td>0.000000</td>\n",
       "      <td>0.000000</td>\n",
       "    </tr>\n",
       "    <tr>\n",
       "      <th>25%</th>\n",
       "      <td>74.000000</td>\n",
       "      <td>408.000000</td>\n",
       "      <td>0.000000</td>\n",
       "      <td>143.700000</td>\n",
       "      <td>87.000000</td>\n",
       "      <td>24.430000</td>\n",
       "      <td>166.600000</td>\n",
       "      <td>87.000000</td>\n",
       "      <td>14.160000</td>\n",
       "      <td>167.000000</td>\n",
       "      <td>87.000000</td>\n",
       "      <td>7.520000</td>\n",
       "      <td>8.500000</td>\n",
       "      <td>3.000000</td>\n",
       "      <td>2.300000</td>\n",
       "      <td>1.000000</td>\n",
       "    </tr>\n",
       "    <tr>\n",
       "      <th>50%</th>\n",
       "      <td>101.000000</td>\n",
       "      <td>415.000000</td>\n",
       "      <td>0.000000</td>\n",
       "      <td>179.400000</td>\n",
       "      <td>101.000000</td>\n",
       "      <td>30.500000</td>\n",
       "      <td>201.400000</td>\n",
       "      <td>100.000000</td>\n",
       "      <td>17.120000</td>\n",
       "      <td>201.200000</td>\n",
       "      <td>100.000000</td>\n",
       "      <td>9.050000</td>\n",
       "      <td>10.300000</td>\n",
       "      <td>4.000000</td>\n",
       "      <td>2.780000</td>\n",
       "      <td>1.000000</td>\n",
       "    </tr>\n",
       "    <tr>\n",
       "      <th>75%</th>\n",
       "      <td>127.000000</td>\n",
       "      <td>510.000000</td>\n",
       "      <td>20.000000</td>\n",
       "      <td>216.400000</td>\n",
       "      <td>114.000000</td>\n",
       "      <td>36.790000</td>\n",
       "      <td>235.300000</td>\n",
       "      <td>114.000000</td>\n",
       "      <td>20.000000</td>\n",
       "      <td>235.300000</td>\n",
       "      <td>113.000000</td>\n",
       "      <td>10.590000</td>\n",
       "      <td>12.100000</td>\n",
       "      <td>6.000000</td>\n",
       "      <td>3.270000</td>\n",
       "      <td>2.000000</td>\n",
       "    </tr>\n",
       "    <tr>\n",
       "      <th>max</th>\n",
       "      <td>243.000000</td>\n",
       "      <td>510.000000</td>\n",
       "      <td>51.000000</td>\n",
       "      <td>350.800000</td>\n",
       "      <td>165.000000</td>\n",
       "      <td>59.640000</td>\n",
       "      <td>363.700000</td>\n",
       "      <td>170.000000</td>\n",
       "      <td>30.910000</td>\n",
       "      <td>395.000000</td>\n",
       "      <td>175.000000</td>\n",
       "      <td>17.770000</td>\n",
       "      <td>20.000000</td>\n",
       "      <td>20.000000</td>\n",
       "      <td>5.400000</td>\n",
       "      <td>9.000000</td>\n",
       "    </tr>\n",
       "  </tbody>\n",
       "</table>\n",
       "</div>"
      ],
      "text/plain": [
       "       account length    area code  number vmail messages  total day minutes  \\\n",
       "count     3333.000000  3333.000000            3333.000000        3333.000000   \n",
       "mean       101.064806   437.182418               8.099010         179.775098   \n",
       "std         39.822106    42.371290              13.688365          54.467389   \n",
       "min          1.000000   408.000000               0.000000           0.000000   \n",
       "25%         74.000000   408.000000               0.000000         143.700000   \n",
       "50%        101.000000   415.000000               0.000000         179.400000   \n",
       "75%        127.000000   510.000000              20.000000         216.400000   \n",
       "max        243.000000   510.000000              51.000000         350.800000   \n",
       "\n",
       "       total day calls  total day charge  total eve minutes  total eve calls  \\\n",
       "count      3333.000000       3333.000000        3333.000000      3333.000000   \n",
       "mean        100.435644         30.562307         200.980348       100.114311   \n",
       "std          20.069084          9.259435          50.713844        19.922625   \n",
       "min           0.000000          0.000000           0.000000         0.000000   \n",
       "25%          87.000000         24.430000         166.600000        87.000000   \n",
       "50%         101.000000         30.500000         201.400000       100.000000   \n",
       "75%         114.000000         36.790000         235.300000       114.000000   \n",
       "max         165.000000         59.640000         363.700000       170.000000   \n",
       "\n",
       "       total eve charge  total night minutes  total night calls  \\\n",
       "count       3333.000000          3333.000000        3333.000000   \n",
       "mean          17.083540           200.872037         100.107711   \n",
       "std            4.310668            50.573847          19.568609   \n",
       "min            0.000000            23.200000          33.000000   \n",
       "25%           14.160000           167.000000          87.000000   \n",
       "50%           17.120000           201.200000         100.000000   \n",
       "75%           20.000000           235.300000         113.000000   \n",
       "max           30.910000           395.000000         175.000000   \n",
       "\n",
       "       total night charge  total intl minutes  total intl calls  \\\n",
       "count         3333.000000         3333.000000       3333.000000   \n",
       "mean             9.039325           10.237294          4.479448   \n",
       "std              2.275873            2.791840          2.461214   \n",
       "min              1.040000            0.000000          0.000000   \n",
       "25%              7.520000            8.500000          3.000000   \n",
       "50%              9.050000           10.300000          4.000000   \n",
       "75%             10.590000           12.100000          6.000000   \n",
       "max             17.770000           20.000000         20.000000   \n",
       "\n",
       "       total intl charge  customer service calls  \n",
       "count        3333.000000             3333.000000  \n",
       "mean            2.764581                1.562856  \n",
       "std             0.753773                1.315491  \n",
       "min             0.000000                0.000000  \n",
       "25%             2.300000                1.000000  \n",
       "50%             2.780000                1.000000  \n",
       "75%             3.270000                2.000000  \n",
       "max             5.400000                9.000000  "
      ]
     },
     "execution_count": 7,
     "metadata": {},
     "output_type": "execute_result"
    }
   ],
   "source": [
    "# Displaying basic statistics\n",
    "df.describe()"
   ]
  },
  {
   "cell_type": "markdown",
   "metadata": {},
   "source": [
    "The data looks normal without and doesn't seem to have any glaring outliers."
   ]
  },
  {
   "cell_type": "markdown",
   "metadata": {},
   "source": [
    "# 3. EDA"
   ]
  },
  {
   "cell_type": "markdown",
   "metadata": {},
   "source": [
    "### 1). Checking for Placeholders\n",
    "Missing data can sometimes be hidden as placeholders such as \"Unknown\", \"N/A\", or any non-standard values. \n",
    "Let's check unique values in categorical columns to identify any such placeholders."
   ]
  },
  {
   "cell_type": "code",
   "execution_count": 8,
   "metadata": {},
   "outputs": [
    {
     "name": "stdout",
     "output_type": "stream",
     "text": [
      "Unique values in state: ['KS' 'OH' 'NJ' 'OK' 'AL' 'MA' 'MO' 'LA' 'WV' 'IN' 'RI' 'IA' 'MT' 'NY'\n",
      " 'ID' 'VT' 'VA' 'TX' 'FL' 'CO' 'AZ' 'SC' 'NE' 'WY' 'HI' 'IL' 'NH' 'GA'\n",
      " 'AK' 'MD' 'AR' 'WI' 'OR' 'MI' 'DE' 'UT' 'CA' 'MN' 'SD' 'NC' 'WA' 'NM'\n",
      " 'NV' 'DC' 'KY' 'ME' 'MS' 'TN' 'PA' 'CT' 'ND'] total= 51\n",
      "Unique values in international plan: ['no' 'yes'] total= 2\n",
      "Unique values in voice mail plan: ['yes' 'no'] total= 2\n",
      "Unique values in churn: [False  True] total= 2\n"
     ]
    }
   ],
   "source": [
    "# Checking unique values in categorical columns\n",
    "categorical_columns = ['state', 'international plan', 'voice mail plan', 'churn']\n",
    "\n",
    "for column in categorical_columns:\n",
    "    unique_values = df[column].unique()\n",
    "    total_unique = len(unique_values)\n",
    "    print(f\"Unique values in {column}: {unique_values} total= {total_unique}\")"
   ]
  },
  {
   "cell_type": "markdown",
   "metadata": {},
   "source": [
    "Great! There doesn't seem to be any placeholders"
   ]
  },
  {
   "cell_type": "markdown",
   "metadata": {},
   "source": [
    "##### Dropping the \"phone number\" column"
   ]
  },
  {
   "cell_type": "markdown",
   "metadata": {},
   "source": [
    "Since we are working with a telecommunications company, the **\"phone number\"** column represents the Customer's unique IDs so this would not be an integreal feature in our analysis. We can just check to see if there are duplicate IDs and if not we can proceed to drop the column entirely."
   ]
  },
  {
   "cell_type": "code",
   "execution_count": 9,
   "metadata": {},
   "outputs": [
    {
     "name": "stdout",
     "output_type": "stream",
     "text": [
      "There's 0 duplicate entries\n"
     ]
    }
   ],
   "source": [
    "# Checking for duplicates in the phone number column\n",
    "print(f\"There's {df['phone number'].duplicated().sum()} duplicate entries\")"
   ]
  },
  {
   "cell_type": "code",
   "execution_count": 10,
   "metadata": {},
   "outputs": [],
   "source": [
    "# Dropping the phone number column from the dataset \n",
    "df.drop('phone number', axis=1, inplace=True)"
   ]
  },
  {
   "cell_type": "markdown",
   "metadata": {},
   "source": [
    "### 2). Univariate Analysis\n",
    "Let's visualize the distribution of some key numerical and categorical features in our dataset."
   ]
  },
  {
   "cell_type": "markdown",
   "metadata": {},
   "source": [
    "#### 2.1 Numerical Features\n",
    "Let's plot histograms to give us a sense of the distribution of values for each numerical feature."
   ]
  },
  {
   "cell_type": "code",
   "execution_count": 11,
   "metadata": {},
   "outputs": [
    {
     "data": {
      "image/png": "[encoded data removed]",
      "text/plain": [
       "<Figure size 1152x576 with 7 Axes>"
      ]
     },
     "metadata": {
      "needs_background": "light"
     },
     "output_type": "display_data"
    }
   ],
   "source": [
    "# Defining the numerical features\n",
    "numerical_features = ['account length', 'number vmail messages', \n",
    "                      'total day minutes', 'total eve minutes', \n",
    "                      'total night minutes', 'total intl minutes', 'customer service calls']\n",
    "\n",
    "# Setting up subplots\n",
    "fig, axes = plt.subplots(2, 4, figsize=(16, 8))\n",
    "fig.suptitle('Distribution of Numerical Features')\n",
    "\n",
    "# Flattening the axes for easier iteration\n",
    "axes = axes.ravel()\n",
    "\n",
    "for i, feature in enumerate(numerical_features):\n",
    "    sns.histplot(df[feature], kde=True, ax=axes[i])\n",
    "    axes[i].set_title(f'Distribution of {feature}')\n",
    "\n",
    "# Removing any empty subplots\n",
    "for i in range(len(numerical_features), len(axes)):\n",
    "    fig.delaxes(axes[i])\n",
    "\n",
    "plt.tight_layout()\n",
    "plt.show()"
   ]
  },
  {
   "cell_type": "markdown",
   "metadata": {},
   "source": [
    "* Most of the numeric features appear to be have a normal distribution.\n",
    "* The 'number vmail messages'. appears to have outliers We'll need to decide whether to cap, transform, or keep these outliers during preprocessing."
   ]
  },
  {
   "cell_type": "markdown",
   "metadata": {},
   "source": [
    "#### 2.2 Categorical Features\n",
    "For the categorical features, Bar plots will give us a sense of the distribution of values for each categorical feature."
   ]
  },
  {
   "cell_type": "code",
   "execution_count": 12,
   "metadata": {},
   "outputs": [
    {
     "data": {
      "image/png": "[encoded data removed]",
      "text/plain": [
       "<Figure size 1224x360 with 3 Axes>"
      ]
     },
     "metadata": {
      "needs_background": "light"
     },
     "output_type": "display_data"
    }
   ],
   "source": [
    "# Defining the list of categorical features (excluding 'state')\n",
    "categorical_features = ['international plan', 'voice mail plan', 'churn']\n",
    "\n",
    "# Setting up subplots\n",
    "fig, axes = plt.subplots(1, len(categorical_features), figsize=(17, 5))\n",
    "fig.suptitle('Distribution of Categorical Features')\n",
    "\n",
    "for i, feature in enumerate(categorical_features):\n",
    "    sns.countplot(x =df[feature], order=df[feature].value_counts().index, ax=axes[i], palette= \"Set2\")\n",
    "    axes[i].set_title(f'Distribution of {feature}')\n",
    "    axes[i].set_xlabel('Count')\n",
    "    \n",
    "plt.tight_layout()\n",
    "plt.show()"
   ]
  },
  {
   "cell_type": "markdown",
   "metadata": {},
   "source": [
    "* The majority of customers don't have an 'international plan' or a 'voice mail plan'. This skewed distribution might make these features significant predictors if the minority class (those with plans) shows a distinct churn behavior. \n",
    "\n",
    "* The churn rate is relatively low, which suggests an imbalanced dataset.\n",
    "  We'll need to consider strategies like oversampling, undersampling, or using specific algorithms to handle this imbalance."
   ]
  },
  {
   "cell_type": "code",
   "execution_count": 13,
   "metadata": {},
   "outputs": [
    {
     "data": {
      "image/png": "[encoded data removed]",
      "text/plain": [
       "<Figure size 1080x360 with 1 Axes>"
      ]
     },
     "metadata": {
      "needs_background": "light"
     },
     "output_type": "display_data"
    }
   ],
   "source": [
    "# Plotting countplots for the states\n",
    "plt.figure(figsize=(15,5))\n",
    "sns.countplot(x=df['state'], order= df['state'].value_counts().index, palette=\"Set2\")\n",
    "plt.title('Distribution by State')\n",
    "plt.xlabel('State')\n",
    "\n",
    "plt.tight_layout()\n",
    "plt.show();"
   ]
  },
  {
   "cell_type": "markdown",
   "metadata": {},
   "source": [
    "* There's a varied distribution of customers across states. Some states have a noticeably higher number of customers, with WV with the highest and CA with the lowest. This geographic data might influence churn, especially if certain regions have better or worse service quality. It could however be distributed in this manner depending on the population in the states. There's a chance CA is a scarsely populated area while WV is densely populated. Without the relevant context and realtime data, This column may not be crucial in our analysis."
   ]
  },
  {
   "cell_type": "markdown",
   "metadata": {},
   "source": [
    "### 3). Bivariate Analysis\n",
    "Next up we explore the relationship between key features and our target variable **churn**.\n",
    "\n",
    "#### 3.1 Numerical Features vs Churn\n",
    "We can use Box plots to help us see the distribution of numerical features across different churn categories."
   ]
  },
  {
   "cell_type": "code",
   "execution_count": 14,
   "metadata": {
    "scrolled": true
   },
   "outputs": [
    {
     "data": {
      "image/png": "[encoded data removed]",
      "text/plain": [
       "<Figure size 1008x360 with 8 Axes>"
      ]
     },
     "metadata": {
      "needs_background": "light"
     },
     "output_type": "display_data"
    }
   ],
   "source": [
    "# Setting up subplots\n",
    "fig, axes = plt.subplots(2, 4, figsize=(14, 5))\n",
    "\n",
    "for i, feature in enumerate(numerical_features):\n",
    "    row, col = i // 4, i % 4\n",
    "    sns.boxplot(x=\"churn\", y=feature, data=df, ax=axes[row, col])\n",
    "    axes[row, col].set_title(f'{feature} vs Churn')\n",
    "    axes[row, col].set_xlabel('Churn')\n",
    "    axes[row, col].set_ylabel(feature)\n",
    "\n",
    "plt.tight_layout()\n",
    "plt.show();"
   ]
  },
  {
   "cell_type": "markdown",
   "metadata": {},
   "source": [
    "The box plots reveal some patterns:\n",
    "* Customers with higher 'total day minutes' and 'total day charge' seem more likely to churn.\n",
    "* High 'customer service calls' also indicate a higher likelihood of churn. This makes intuitive sense as dissatisfied customers tend to contact customer service more often."
   ]
  },
  {
   "cell_type": "code",
   "execution_count": 15,
   "metadata": {},
   "outputs": [
    {
     "data": {
      "image/png": "[encoded data removed]",
      "text/plain": [
       "<Figure size 864x360 with 2 Axes>"
      ]
     },
     "metadata": {
      "needs_background": "light"
     },
     "output_type": "display_data"
    }
   ],
   "source": [
    "# Defining the categorical features\n",
    "categorical_features2 = ['international plan', 'voice mail plan']\n",
    "\n",
    "# Set up subplots\n",
    "fig, axes = plt.subplots(1, 2, figsize=(12, 5))\n",
    "fig.suptitle('Count Plots of Categorical Features vs Churn')\n",
    "\n",
    "for i, feature in enumerate(categorical_features2):\n",
    "    sns.countplot(x=feature, hue=\"churn\", data=df, ax=axes[i])\n",
    "    axes[i].set_title(f'{feature} vs Churn')\n",
    "    axes[i].set_xlabel(feature)\n",
    "    axes[i].set_ylabel('Count')\n",
    "\n",
    "plt.tight_layout()\n",
    "plt.show();"
   ]
  },
  {
   "cell_type": "markdown",
   "metadata": {},
   "source": [
    "* Customers with an 'international plan' have a much higher churn rate compared to those without. This could be a significant predictor.\n",
    "* Voice mail plan' doesn't show as stark a contrast, but there's still some difference in churn rates between the two categories."
   ]
  },
  {
   "cell_type": "code",
   "execution_count": 16,
   "metadata": {},
   "outputs": [
    {
     "data": {
      "image/png": "[encoded data removed]",
      "text/plain": [
       "<Figure size 864x576 with 4 Axes>"
      ]
     },
     "metadata": {
      "needs_background": "light"
     },
     "output_type": "display_data"
    }
   ],
   "source": [
    "# Defining the feature pairs\n",
    "feature_pairs = [\n",
    "    ('total day minutes', 'total day charge'),\n",
    "    ('total eve minutes', 'total eve charge'),\n",
    "    ('total night minutes', 'total night charge'),\n",
    "    ('total intl minutes', 'total intl charge')\n",
    "]\n",
    "\n",
    "# Setting up subplots\n",
    "fig, axes = plt.subplots(2, 2, figsize=(12, 8))\n",
    "fig.suptitle('Scatter Plots of Feature Pairs')\n",
    "\n",
    "for i, (x_feature, y_feature) in enumerate(feature_pairs):\n",
    "    row, col = i // 2, i % 2\n",
    "    sns.scatterplot(x=x_feature, hue='churn', y=y_feature,data=df, alpha=0.6, ax=axes[row, col])\n",
    "    axes[row, col].set_title(f'{x_feature} vs {y_feature}')\n",
    "    axes[row, col].set_xlabel(x_feature)\n",
    "    axes[row, col].set_ylabel(y_feature)\n",
    "\n",
    "plt.tight_layout()\n",
    "plt.subplots_adjust(top=0.9)\n",
    "plt.show()"
   ]
  },
  {
   "cell_type": "markdown",
   "metadata": {},
   "source": [
    "* The scatter plots confirm a direct linear relationship between the call minutes and their respective charges for day, evening, night, and international times. This is expected since charges are typically proportional to the minutes used.\n",
    "\n",
    "* There's a dense overlap of points, especially at specific minute-charge combinations. This overlap suggests that there are standard rates being applied to call durations, leading to many customers incurring similar charges for similar call durations.\n",
    "\n",
    "* Given the strong correlation between minutes and charges, we should consider removing either the minutes or the charges features to reduce multicollinearity. This step is crucial if we decide to employ linear models."
   ]
  },
  {
   "cell_type": "markdown",
   "metadata": {},
   "source": [
    "# 4. Data Preprocessing"
   ]
  },
  {
   "cell_type": "markdown",
   "metadata": {},
   "source": [
    "In this section, we'll preprocess the data to make it suitable for machine learning. This will include encoding categorical features, scaling numerical features, and splitting the dataset.\n",
    "\n",
    "### a). Encoding Categorical Features\n",
    "We'll convert categorical features into a format that's suitable for machine learning algorithms. Specifically, we'll:\n",
    "* Convert binary features like 'international plan', 'voice mail plan', and 'churn' to 0s and 1s."
   ]
  },
  {
   "cell_type": "code",
   "execution_count": 17,
   "metadata": {},
   "outputs": [],
   "source": [
    "# Encoding binary features\n",
    "binary_features = ['international plan', 'voice mail plan', 'churn']\n",
    "encoder = LabelEncoder()\n",
    "for feature in binary_features:\n",
    "    df[feature] = encoder.fit_transform(df[feature])"
   ]
  },
  {
   "cell_type": "code",
   "execution_count": 18,
   "metadata": {
    "scrolled": true
   },
   "outputs": [
    {
     "name": "stdout",
     "output_type": "stream",
     "text": [
      "Unique values in international plan after encoding: [0 1]\n",
      "Unique values in voice mail plan after encoding: [1 0]\n",
      "Unique values in churn after encoding: [0 1]\n"
     ]
    }
   ],
   "source": [
    "# Confirming that it worked\n",
    "for feature in binary_features:\n",
    "    unique_values = df[feature].unique()\n",
    "    print(f'Unique values in {feature} after encoding: {unique_values}')"
   ]
  },
  {
   "cell_type": "markdown",
   "metadata": {},
   "source": [
    "### b).  Handling Outliers"
   ]
  },
  {
   "cell_type": "code",
   "execution_count": 19,
   "metadata": {},
   "outputs": [],
   "source": [
    "# Defining numerical features\n",
    "numerical_features = ['account length', 'number vmail messages', 'total day minutes', \n",
    "                      'total eve minutes', 'total night minutes', 'total intl minutes', 'customer service calls']\n",
    "\n",
    "# Handling outliers using IQR\n",
    "Q1 = df[numerical_features].quantile(0.25)\n",
    "Q3 = df[numerical_features].quantile(0.75)\n",
    "IQR = Q3 - Q1\n",
    "\n",
    "lower_bound = Q1 - 1.5 * IQR\n",
    "upper_bound = Q3 + 1.5 * IQR\n",
    "\n",
    "for feature in numerical_features:\n",
    "    df[feature] = np.where(df[feature] < lower_bound[feature], lower_bound[feature], df[feature])\n",
    "    df[feature] = np.where(df[feature] > upper_bound[feature], upper_bound[feature], df[feature])"
   ]
  },
  {
   "cell_type": "markdown",
   "metadata": {},
   "source": [
    "### c). Dropping Correlated Features\n",
    "Based on our observations, we'll drop the charge-related columns to reduce multicollinearity, keeping the minute-related columns."
   ]
  },
  {
   "cell_type": "code",
   "execution_count": 20,
   "metadata": {},
   "outputs": [],
   "source": [
    "# Dropping the Correlated Features and unneccesary columns \n",
    "columns_to_drop = ['total day charge', 'total eve charge', 'total night charge', 'total intl charge', 'area code', 'state']\n",
    "df.drop(columns=columns_to_drop, inplace=True)"
   ]
  },
  {
   "cell_type": "code",
   "execution_count": 21,
   "metadata": {},
   "outputs": [
    {
     "name": "stdout",
     "output_type": "stream",
     "text": [
      "shape is now(3333, 14)\n",
      "Index(['account length', 'international plan', 'voice mail plan',\n",
      "       'number vmail messages', 'total day minutes', 'total day calls',\n",
      "       'total eve minutes', 'total eve calls', 'total night minutes',\n",
      "       'total night calls', 'total intl minutes', 'total intl calls',\n",
      "       'customer service calls', 'churn'],\n",
      "      dtype='object')\n"
     ]
    }
   ],
   "source": [
    "# Confirming it worked\n",
    "print(f'shape is now{df.shape}')\n",
    "print(df.columns)"
   ]
  },
  {
   "cell_type": "markdown",
   "metadata": {},
   "source": [
    "### d). Scaling Numerical Features"
   ]
  },
  {
   "cell_type": "code",
   "execution_count": 22,
   "metadata": {},
   "outputs": [],
   "source": [
    "# Scaling Numerical Features\n",
    "scaler = StandardScaler()\n",
    "df[numerical_features] = scaler.fit_transform(df[numerical_features])"
   ]
  },
  {
   "cell_type": "code",
   "execution_count": 23,
   "metadata": {},
   "outputs": [
    {
     "data": {
      "text/html": [
       "<div>\n",
       "<style scoped>\n",
       "    .dataframe tbody tr th:only-of-type {\n",
       "        vertical-align: middle;\n",
       "    }\n",
       "\n",
       "    .dataframe tbody tr th {\n",
       "        vertical-align: top;\n",
       "    }\n",
       "\n",
       "    .dataframe thead th {\n",
       "        text-align: right;\n",
       "    }\n",
       "</style>\n",
       "<table border=\"1\" class=\"dataframe\">\n",
       "  <thead>\n",
       "    <tr style=\"text-align: right;\">\n",
       "      <th></th>\n",
       "      <th>account length</th>\n",
       "      <th>number vmail messages</th>\n",
       "      <th>total day minutes</th>\n",
       "      <th>total eve minutes</th>\n",
       "      <th>total night minutes</th>\n",
       "      <th>total intl minutes</th>\n",
       "      <th>customer service calls</th>\n",
       "    </tr>\n",
       "  </thead>\n",
       "  <tbody>\n",
       "    <tr>\n",
       "      <th>count</th>\n",
       "      <td>3.333000e+03</td>\n",
       "      <td>3.333000e+03</td>\n",
       "      <td>3.333000e+03</td>\n",
       "      <td>3.333000e+03</td>\n",
       "      <td>3.333000e+03</td>\n",
       "      <td>3.333000e+03</td>\n",
       "      <td>3.333000e+03</td>\n",
       "    </tr>\n",
       "    <tr>\n",
       "      <th>mean</th>\n",
       "      <td>1.001965e-16</td>\n",
       "      <td>-3.837315e-17</td>\n",
       "      <td>2.078545e-16</td>\n",
       "      <td>1.982612e-16</td>\n",
       "      <td>1.343060e-16</td>\n",
       "      <td>-1.790747e-16</td>\n",
       "      <td>-1.343060e-16</td>\n",
       "    </tr>\n",
       "    <tr>\n",
       "      <th>std</th>\n",
       "      <td>1.000150e+00</td>\n",
       "      <td>1.000150e+00</td>\n",
       "      <td>1.000150e+00</td>\n",
       "      <td>1.000150e+00</td>\n",
       "      <td>1.000150e+00</td>\n",
       "      <td>1.000150e+00</td>\n",
       "      <td>1.000150e+00</td>\n",
       "    </tr>\n",
       "    <tr>\n",
       "      <th>min</th>\n",
       "      <td>-2.522904e+00</td>\n",
       "      <td>-5.917781e-01</td>\n",
       "      <td>-2.681109e+00</td>\n",
       "      <td>-2.727707e+00</td>\n",
       "      <td>-2.719520e+00</td>\n",
       "      <td>-2.629780e+00</td>\n",
       "      <td>-1.333569e+00</td>\n",
       "    </tr>\n",
       "    <tr>\n",
       "      <th>25%</th>\n",
       "      <td>-6.812450e-01</td>\n",
       "      <td>-5.917781e-01</td>\n",
       "      <td>-6.670381e-01</td>\n",
       "      <td>-6.828129e-01</td>\n",
       "      <td>-6.750628e-01</td>\n",
       "      <td>-6.449226e-01</td>\n",
       "      <td>-4.302490e-01</td>\n",
       "    </tr>\n",
       "    <tr>\n",
       "      <th>50%</th>\n",
       "      <td>-8.326143e-05</td>\n",
       "      <td>-5.917781e-01</td>\n",
       "      <td>-7.686098e-03</td>\n",
       "      <td>7.748156e-03</td>\n",
       "      <td>7.420655e-03</td>\n",
       "      <td>1.669652e-02</td>\n",
       "      <td>-4.302490e-01</td>\n",
       "    </tr>\n",
       "    <tr>\n",
       "      <th>75%</th>\n",
       "      <td>6.558502e-01</td>\n",
       "      <td>8.696352e-01</td>\n",
       "      <td>6.756760e-01</td>\n",
       "      <td>6.804499e-01</td>\n",
       "      <td>6.879086e-01</td>\n",
       "      <td>6.783156e-01</td>\n",
       "      <td>4.730706e-01</td>\n",
       "    </tr>\n",
       "    <tr>\n",
       "      <th>max</th>\n",
       "      <td>2.661493e+00</td>\n",
       "      <td>3.061755e+00</td>\n",
       "      <td>2.689747e+00</td>\n",
       "      <td>2.725344e+00</td>\n",
       "      <td>2.732366e+00</td>\n",
       "      <td>2.663173e+00</td>\n",
       "      <td>1.828050e+00</td>\n",
       "    </tr>\n",
       "  </tbody>\n",
       "</table>\n",
       "</div>"
      ],
      "text/plain": [
       "       account length  number vmail messages  total day minutes  \\\n",
       "count    3.333000e+03           3.333000e+03       3.333000e+03   \n",
       "mean     1.001965e-16          -3.837315e-17       2.078545e-16   \n",
       "std      1.000150e+00           1.000150e+00       1.000150e+00   \n",
       "min     -2.522904e+00          -5.917781e-01      -2.681109e+00   \n",
       "25%     -6.812450e-01          -5.917781e-01      -6.670381e-01   \n",
       "50%     -8.326143e-05          -5.917781e-01      -7.686098e-03   \n",
       "75%      6.558502e-01           8.696352e-01       6.756760e-01   \n",
       "max      2.661493e+00           3.061755e+00       2.689747e+00   \n",
       "\n",
       "       total eve minutes  total night minutes  total intl minutes  \\\n",
       "count       3.333000e+03         3.333000e+03        3.333000e+03   \n",
       "mean        1.982612e-16         1.343060e-16       -1.790747e-16   \n",
       "std         1.000150e+00         1.000150e+00        1.000150e+00   \n",
       "min        -2.727707e+00        -2.719520e+00       -2.629780e+00   \n",
       "25%        -6.828129e-01        -6.750628e-01       -6.449226e-01   \n",
       "50%         7.748156e-03         7.420655e-03        1.669652e-02   \n",
       "75%         6.804499e-01         6.879086e-01        6.783156e-01   \n",
       "max         2.725344e+00         2.732366e+00        2.663173e+00   \n",
       "\n",
       "       customer service calls  \n",
       "count            3.333000e+03  \n",
       "mean            -1.343060e-16  \n",
       "std              1.000150e+00  \n",
       "min             -1.333569e+00  \n",
       "25%             -4.302490e-01  \n",
       "50%             -4.302490e-01  \n",
       "75%              4.730706e-01  \n",
       "max              1.828050e+00  "
      ]
     },
     "execution_count": 23,
     "metadata": {},
     "output_type": "execute_result"
    }
   ],
   "source": [
    "# Confirming it worked\n",
    "df[numerical_features].describe()"
   ]
  },
  {
   "cell_type": "markdown",
   "metadata": {},
   "source": [
    "### e). Splitting the Data"
   ]
  },
  {
   "cell_type": "code",
   "execution_count": 24,
   "metadata": {},
   "outputs": [],
   "source": [
    "# Defining features and target variables\n",
    "X = df.drop(columns=['churn'])\n",
    "y = df['churn']\n",
    "\n",
    "# Splitting the data into training and test sets\n",
    "X_train, X_test, y_train, y_test = train_test_split(X, y, test_size=0.2, random_state=42)"
   ]
  },
  {
   "cell_type": "code",
   "execution_count": 25,
   "metadata": {
    "scrolled": true
   },
   "outputs": [
    {
     "data": {
      "text/plain": [
       "0    2850\n",
       "1     483\n",
       "Name: churn, dtype: int64"
      ]
     },
     "execution_count": 25,
     "metadata": {},
     "output_type": "execute_result"
    }
   ],
   "source": [
    "# Checking for class imbalance\n",
    "y.value_counts()"
   ]
  },
  {
   "cell_type": "markdown",
   "metadata": {},
   "source": [
    "### f). Dealing with class imbalance\n",
    "There's a class imbalance in our target variable. Given that the 'churn' class (True) is the minority, We will use SMOTE. This technique doesn't result in the loss of data (like undersampling) and doesn't merely replicate existing data (like simple oversampling). Instead, SMOTE creates synthetic, yet realistic, samples of the minority class."
   ]
  },
  {
   "cell_type": "code",
   "execution_count": 27,
   "metadata": {},
   "outputs": [],
   "source": [
    "# Importing SMOTE\n",
    "from imblearn.over_sampling import SMOTE"
   ]
  },
  {
   "cell_type": "code",
   "execution_count": 28,
   "metadata": {},
   "outputs": [],
   "source": [
    "# Dealing with the class imbalance\n",
    "smote = SMOTE(random_state=42)\n",
    "X_train_resampled, y_train_resampled = smote.fit_resample(X_train, y_train)"
   ]
  },
  {
   "cell_type": "code",
   "execution_count": 29,
   "metadata": {},
   "outputs": [
    {
     "data": {
      "text/plain": [
       "1    2284\n",
       "0    2284\n",
       "Name: churn, dtype: int64"
      ]
     },
     "execution_count": 29,
     "metadata": {},
     "output_type": "execute_result"
    }
   ],
   "source": [
    "# Confirming it Worked\n",
    "y_train_resampled.value_counts()"
   ]
  },
  {
   "cell_type": "markdown",
   "metadata": {},
   "source": [
    "Now **\"X_train_resampled\"** and **\"y_train_resampled\"** have balanced classes, which we can then use to training our models. We only apply SMOTE to the training data to ensure our test data remains a realistic representation of the original data distribution."
   ]
  },
  {
   "cell_type": "markdown",
   "metadata": {},
   "source": [
    "# 5. Modeling"
   ]
  },
  {
   "cell_type": "markdown",
   "metadata": {},
   "source": [
    "Having balanced our classes, we can proceed to the modeling phase. \n",
    "Given our binary classification problem and the data at hand, we can consider several algorithms:\n",
    "\n",
    "* **Baseline Model:** Logistic Regression.\n",
    "* **Non-parametric Models:** Decision Trees.\n",
    "* **Ensemble Methods:** Random Forest\n",
    "\n",
    "Starting with a simple model (like Logistic Regression) provides a baseline performance. From there, we can explore more complex models to see if they offer significant improvements. Iteratively building and evaluating models will allow us to understand the strengths and weaknesses of each approach."
   ]
  },
  {
   "cell_type": "markdown",
   "metadata": {},
   "source": [
    "## a). Baseline Model - Logistic Regression\n",
    "First, we'll train a Logistic Regression model using the training data."
   ]
  },
  {
   "cell_type": "code",
   "execution_count": 30,
   "metadata": {},
   "outputs": [
    {
     "data": {
      "text/html": [
       "<style>#sk-container-id-1 {color: black;}#sk-container-id-1 pre{padding: 0;}#sk-container-id-1 div.sk-toggleable {background-color: white;}#sk-container-id-1 label.sk-toggleable__label {cursor: pointer;display: block;width: 100%;margin-bottom: 0;padding: 0.3em;box-sizing: border-box;text-align: center;}#sk-container-id-1 label.sk-toggleable__label-arrow:before {content: \"▸\";float: left;margin-right: 0.25em;color: #696969;}#sk-container-id-1 label.sk-toggleable__label-arrow:hover:before {color: black;}#sk-container-id-1 div.sk-estimator:hover label.sk-toggleable__label-arrow:before {color: black;}#sk-container-id-1 div.sk-toggleable__content {max-height: 0;max-width: 0;overflow: hidden;text-align: left;background-color: #f0f8ff;}#sk-container-id-1 div.sk-toggleable__content pre {margin: 0.2em;color: black;border-radius: 0.25em;background-color: #f0f8ff;}#sk-container-id-1 input.sk-toggleable__control:checked~div.sk-toggleable__content {max-height: 200px;max-width: 100%;overflow: auto;}#sk-container-id-1 input.sk-toggleable__control:checked~label.sk-toggleable__label-arrow:before {content: \"▾\";}#sk-container-id-1 div.sk-estimator input.sk-toggleable__control:checked~label.sk-toggleable__label {background-color: #d4ebff;}#sk-container-id-1 div.sk-label input.sk-toggleable__control:checked~label.sk-toggleable__label {background-color: #d4ebff;}#sk-container-id-1 input.sk-hidden--visually {border: 0;clip: rect(1px 1px 1px 1px);clip: rect(1px, 1px, 1px, 1px);height: 1px;margin: -1px;overflow: hidden;padding: 0;position: absolute;width: 1px;}#sk-container-id-1 div.sk-estimator {font-family: monospace;background-color: #f0f8ff;border: 1px dotted black;border-radius: 0.25em;box-sizing: border-box;margin-bottom: 0.5em;}#sk-container-id-1 div.sk-estimator:hover {background-color: #d4ebff;}#sk-container-id-1 div.sk-parallel-item::after {content: \"\";width: 100%;border-bottom: 1px solid gray;flex-grow: 1;}#sk-container-id-1 div.sk-label:hover label.sk-toggleable__label {background-color: #d4ebff;}#sk-container-id-1 div.sk-serial::before {content: \"\";position: absolute;border-left: 1px solid gray;box-sizing: border-box;top: 0;bottom: 0;left: 50%;z-index: 0;}#sk-container-id-1 div.sk-serial {display: flex;flex-direction: column;align-items: center;background-color: white;padding-right: 0.2em;padding-left: 0.2em;position: relative;}#sk-container-id-1 div.sk-item {position: relative;z-index: 1;}#sk-container-id-1 div.sk-parallel {display: flex;align-items: stretch;justify-content: center;background-color: white;position: relative;}#sk-container-id-1 div.sk-item::before, #sk-container-id-1 div.sk-parallel-item::before {content: \"\";position: absolute;border-left: 1px solid gray;box-sizing: border-box;top: 0;bottom: 0;left: 50%;z-index: -1;}#sk-container-id-1 div.sk-parallel-item {display: flex;flex-direction: column;z-index: 1;position: relative;background-color: white;}#sk-container-id-1 div.sk-parallel-item:first-child::after {align-self: flex-end;width: 50%;}#sk-container-id-1 div.sk-parallel-item:last-child::after {align-self: flex-start;width: 50%;}#sk-container-id-1 div.sk-parallel-item:only-child::after {width: 0;}#sk-container-id-1 div.sk-dashed-wrapped {border: 1px dashed gray;margin: 0 0.4em 0.5em 0.4em;box-sizing: border-box;padding-bottom: 0.4em;background-color: white;}#sk-container-id-1 div.sk-label label {font-family: monospace;font-weight: bold;display: inline-block;line-height: 1.2em;}#sk-container-id-1 div.sk-label-container {text-align: center;}#sk-container-id-1 div.sk-container {/* jupyter's `normalize.less` sets `[hidden] { display: none; }` but bootstrap.min.css set `[hidden] { display: none !important; }` so we also need the `!important` here to be able to override the default hidden behavior on the sphinx rendered scikit-learn.org. See: https://github.com/scikit-learn/scikit-learn/issues/21755 */display: inline-block !important;position: relative;}#sk-container-id-1 div.sk-text-repr-fallback {display: none;}</style><div id=\"sk-container-id-1\" class=\"sk-top-container\"><div class=\"sk-text-repr-fallback\"><pre>LogisticRegression(max_iter=1000, random_state=42)</pre><b>In a Jupyter environment, please rerun this cell to show the HTML representation or trust the notebook. <br />On GitHub, the HTML representation is unable to render, please try loading this page with nbviewer.org.</b></div><div class=\"sk-container\" hidden><div class=\"sk-item\"><div class=\"sk-estimator sk-toggleable\"><input class=\"sk-toggleable__control sk-hidden--visually\" id=\"sk-estimator-id-1\" type=\"checkbox\" checked><label for=\"sk-estimator-id-1\" class=\"sk-toggleable__label sk-toggleable__label-arrow\">LogisticRegression</label><div class=\"sk-toggleable__content\"><pre>LogisticRegression(max_iter=1000, random_state=42)</pre></div></div></div></div></div>"
      ],
      "text/plain": [
       "LogisticRegression(max_iter=1000, random_state=42)"
      ]
     },
     "execution_count": 30,
     "metadata": {},
     "output_type": "execute_result"
    }
   ],
   "source": [
    "# Initializing the Logistic Regression model\n",
    "logreg = LogisticRegression(random_state=42, max_iter=1000)\n",
    "\n",
    "# Training the model using the SMOTE-augmented training data\n",
    "logreg.fit(X_train_resampled, y_train_resampled)"
   ]
  },
  {
   "cell_type": "markdown",
   "metadata": {},
   "source": [
    "After training, we'll predict and evaluate the model's performance on the test set using various metrics."
   ]
  },
  {
   "cell_type": "code",
   "execution_count": 31,
   "metadata": {},
   "outputs": [],
   "source": [
    "# Predictions on the test set\n",
    "y_pred = logreg.predict(X_test)"
   ]
  },
  {
   "cell_type": "markdown",
   "metadata": {},
   "source": [
    "#### Baseline model ROC-AUC Score"
   ]
  },
  {
   "cell_type": "code",
   "execution_count": 32,
   "metadata": {},
   "outputs": [
    {
     "name": "stdout",
     "output_type": "stream",
     "text": [
      "ROC-AUC: 0.7165\n"
     ]
    }
   ],
   "source": [
    "# Evaluation\n",
    "roc_auc = roc_auc_score(y_test, y_pred)\n",
    "print(f\"ROC-AUC: {roc_auc:.4f}\")"
   ]
  },
  {
   "cell_type": "markdown",
   "metadata": {},
   "source": [
    "* **ROC-AUC:** The ROC-AUC score of **0.7165** is decent but there's still room for improvement. This score provides an aggregate measure of the model's ability to distinguish between the two classes, with values closer to 1 indicating better performance. "
   ]
  },
  {
   "cell_type": "markdown",
   "metadata": {},
   "source": [
    "#### Baseline Model Confusion Matrix Visualization"
   ]
  },
  {
   "cell_type": "code",
   "execution_count": 33,
   "metadata": {
    "scrolled": true
   },
   "outputs": [
    {
     "data": {
      "image/png": "[encoded data removed]",
      "text/plain": [
       "<Figure size 216x216 with 1 Axes>"
      ]
     },
     "metadata": {
      "needs_background": "light"
     },
     "output_type": "display_data"
    }
   ],
   "source": [
    "# Confusion Matrix\n",
    "conf_matrix = confusion_matrix(y_test, y_pred)\n",
    "plt.figure(figsize=(3, 3))\n",
    "sns.heatmap(conf_matrix, annot=True, fmt='d', cmap='Spectral', cbar=False, square=True)\n",
    "plt.xlabel('Predicted')\n",
    "plt.ylabel('Actual')\n",
    "plt.title('Confusion Matrix')\n",
    "plt.show()"
   ]
  },
  {
   "cell_type": "markdown",
   "metadata": {},
   "source": [
    "#### Classification Report"
   ]
  },
  {
   "cell_type": "code",
   "execution_count": 34,
   "metadata": {},
   "outputs": [
    {
     "name": "stdout",
     "output_type": "stream",
     "text": [
      "Classification Report:\n"
     ]
    },
    {
     "data": {
      "text/html": [
       "<div>\n",
       "<style scoped>\n",
       "    .dataframe tbody tr th:only-of-type {\n",
       "        vertical-align: middle;\n",
       "    }\n",
       "\n",
       "    .dataframe tbody tr th {\n",
       "        vertical-align: top;\n",
       "    }\n",
       "\n",
       "    .dataframe thead th {\n",
       "        text-align: right;\n",
       "    }\n",
       "</style>\n",
       "<table border=\"1\" class=\"dataframe\">\n",
       "  <thead>\n",
       "    <tr style=\"text-align: right;\">\n",
       "      <th></th>\n",
       "      <th>precision</th>\n",
       "      <th>recall</th>\n",
       "      <th>f1-score</th>\n",
       "      <th>support</th>\n",
       "    </tr>\n",
       "  </thead>\n",
       "  <tbody>\n",
       "    <tr>\n",
       "      <th>0</th>\n",
       "      <td>0.928726</td>\n",
       "      <td>0.759717</td>\n",
       "      <td>0.835763</td>\n",
       "      <td>566.000000</td>\n",
       "    </tr>\n",
       "    <tr>\n",
       "      <th>1</th>\n",
       "      <td>0.333333</td>\n",
       "      <td>0.673267</td>\n",
       "      <td>0.445902</td>\n",
       "      <td>101.000000</td>\n",
       "    </tr>\n",
       "    <tr>\n",
       "      <th>accuracy</th>\n",
       "      <td>0.746627</td>\n",
       "      <td>0.746627</td>\n",
       "      <td>0.746627</td>\n",
       "      <td>0.746627</td>\n",
       "    </tr>\n",
       "    <tr>\n",
       "      <th>macro avg</th>\n",
       "      <td>0.631030</td>\n",
       "      <td>0.716492</td>\n",
       "      <td>0.640832</td>\n",
       "      <td>667.000000</td>\n",
       "    </tr>\n",
       "    <tr>\n",
       "      <th>weighted avg</th>\n",
       "      <td>0.838569</td>\n",
       "      <td>0.746627</td>\n",
       "      <td>0.776728</td>\n",
       "      <td>667.000000</td>\n",
       "    </tr>\n",
       "  </tbody>\n",
       "</table>\n",
       "</div>"
      ],
      "text/plain": [
       "              precision    recall  f1-score     support\n",
       "0              0.928726  0.759717  0.835763  566.000000\n",
       "1              0.333333  0.673267  0.445902  101.000000\n",
       "accuracy       0.746627  0.746627  0.746627    0.746627\n",
       "macro avg      0.631030  0.716492  0.640832  667.000000\n",
       "weighted avg   0.838569  0.746627  0.776728  667.000000"
      ]
     },
     "execution_count": 34,
     "metadata": {},
     "output_type": "execute_result"
    }
   ],
   "source": [
    "# Converting the report dictionary to a DataFrame\n",
    "report = classification_report(y_test, y_pred, output_dict=True)  # Use output_dict=True\n",
    "report_df = pd.DataFrame(report).transpose()\n",
    "print(\"Classification Report:\")\n",
    "report_df"
   ]
  },
  {
   "cell_type": "markdown",
   "metadata": {},
   "source": [
    "* **Overall Accuracy:** The model achieved an accuracy of **74.66%**. This means that the model correctly predicted whether a customer would churn or not for approximately **74.66%** of the test samples.\n",
    "* **For class 0 (no churn):** **Precision:** **92.87%** of the predictions are correct. **Recall:** The model identified **75.97%** of all actual non-churn cases.\n",
    "* **For class 1 (churn):** **Precision:** Only **33.33%** of the churn predictions are correct. **Recall:** The model identified **67.33%** of all actual churn cases."
   ]
  },
  {
   "cell_type": "markdown",
   "metadata": {},
   "source": [
    "### Improving Model Performance using and cross-validation"
   ]
  },
  {
   "cell_type": "markdown",
   "metadata": {},
   "source": [
    "Using k-fold cross-validation provides a more robust estimate of the model's performance. Instead of relying on a single train-test split, we utilize multiple splits, ensuring that our model's performance isn't due to the randomness of a particular split. It helps in reducing variance and gives a better idea of how the model might perform on unseen data."
   ]
  },
  {
   "cell_type": "code",
   "execution_count": 35,
   "metadata": {},
   "outputs": [
    {
     "name": "stdout",
     "output_type": "stream",
     "text": [
      "Training Data Average ROC-AUC Score: 0.8353\n",
      "Training Data Standard Deviation: 0.0384\n"
     ]
    }
   ],
   "source": [
    "# Using 5-fold cross-validation to get a better estimate of the model's performance on the resampled training data\n",
    "train_accuracy = cross_val_score(logreg, X_train_resampled, y_train_resampled, cv=5, scoring='roc_auc')\n",
    "print(f\"Training Data Average ROC-AUC Score: {train_accuracy.mean():.4f}\")\n",
    "print(f\"Training Data Standard Deviation: {train_accuracy.std():.4f}\")"
   ]
  },
  {
   "cell_type": "code",
   "execution_count": 36,
   "metadata": {},
   "outputs": [
    {
     "data": {
      "text/html": [
       "<style>#sk-container-id-2 {color: black;}#sk-container-id-2 pre{padding: 0;}#sk-container-id-2 div.sk-toggleable {background-color: white;}#sk-container-id-2 label.sk-toggleable__label {cursor: pointer;display: block;width: 100%;margin-bottom: 0;padding: 0.3em;box-sizing: border-box;text-align: center;}#sk-container-id-2 label.sk-toggleable__label-arrow:before {content: \"▸\";float: left;margin-right: 0.25em;color: #696969;}#sk-container-id-2 label.sk-toggleable__label-arrow:hover:before {color: black;}#sk-container-id-2 div.sk-estimator:hover label.sk-toggleable__label-arrow:before {color: black;}#sk-container-id-2 div.sk-toggleable__content {max-height: 0;max-width: 0;overflow: hidden;text-align: left;background-color: #f0f8ff;}#sk-container-id-2 div.sk-toggleable__content pre {margin: 0.2em;color: black;border-radius: 0.25em;background-color: #f0f8ff;}#sk-container-id-2 input.sk-toggleable__control:checked~div.sk-toggleable__content {max-height: 200px;max-width: 100%;overflow: auto;}#sk-container-id-2 input.sk-toggleable__control:checked~label.sk-toggleable__label-arrow:before {content: \"▾\";}#sk-container-id-2 div.sk-estimator input.sk-toggleable__control:checked~label.sk-toggleable__label {background-color: #d4ebff;}#sk-container-id-2 div.sk-label input.sk-toggleable__control:checked~label.sk-toggleable__label {background-color: #d4ebff;}#sk-container-id-2 input.sk-hidden--visually {border: 0;clip: rect(1px 1px 1px 1px);clip: rect(1px, 1px, 1px, 1px);height: 1px;margin: -1px;overflow: hidden;padding: 0;position: absolute;width: 1px;}#sk-container-id-2 div.sk-estimator {font-family: monospace;background-color: #f0f8ff;border: 1px dotted black;border-radius: 0.25em;box-sizing: border-box;margin-bottom: 0.5em;}#sk-container-id-2 div.sk-estimator:hover {background-color: #d4ebff;}#sk-container-id-2 div.sk-parallel-item::after {content: \"\";width: 100%;border-bottom: 1px solid gray;flex-grow: 1;}#sk-container-id-2 div.sk-label:hover label.sk-toggleable__label {background-color: #d4ebff;}#sk-container-id-2 div.sk-serial::before {content: \"\";position: absolute;border-left: 1px solid gray;box-sizing: border-box;top: 0;bottom: 0;left: 50%;z-index: 0;}#sk-container-id-2 div.sk-serial {display: flex;flex-direction: column;align-items: center;background-color: white;padding-right: 0.2em;padding-left: 0.2em;position: relative;}#sk-container-id-2 div.sk-item {position: relative;z-index: 1;}#sk-container-id-2 div.sk-parallel {display: flex;align-items: stretch;justify-content: center;background-color: white;position: relative;}#sk-container-id-2 div.sk-item::before, #sk-container-id-2 div.sk-parallel-item::before {content: \"\";position: absolute;border-left: 1px solid gray;box-sizing: border-box;top: 0;bottom: 0;left: 50%;z-index: -1;}#sk-container-id-2 div.sk-parallel-item {display: flex;flex-direction: column;z-index: 1;position: relative;background-color: white;}#sk-container-id-2 div.sk-parallel-item:first-child::after {align-self: flex-end;width: 50%;}#sk-container-id-2 div.sk-parallel-item:last-child::after {align-self: flex-start;width: 50%;}#sk-container-id-2 div.sk-parallel-item:only-child::after {width: 0;}#sk-container-id-2 div.sk-dashed-wrapped {border: 1px dashed gray;margin: 0 0.4em 0.5em 0.4em;box-sizing: border-box;padding-bottom: 0.4em;background-color: white;}#sk-container-id-2 div.sk-label label {font-family: monospace;font-weight: bold;display: inline-block;line-height: 1.2em;}#sk-container-id-2 div.sk-label-container {text-align: center;}#sk-container-id-2 div.sk-container {/* jupyter's `normalize.less` sets `[hidden] { display: none; }` but bootstrap.min.css set `[hidden] { display: none !important; }` so we also need the `!important` here to be able to override the default hidden behavior on the sphinx rendered scikit-learn.org. See: https://github.com/scikit-learn/scikit-learn/issues/21755 */display: inline-block !important;position: relative;}#sk-container-id-2 div.sk-text-repr-fallback {display: none;}</style><div id=\"sk-container-id-2\" class=\"sk-top-container\"><div class=\"sk-text-repr-fallback\"><pre>LogisticRegression(max_iter=1000, random_state=42)</pre><b>In a Jupyter environment, please rerun this cell to show the HTML representation or trust the notebook. <br />On GitHub, the HTML representation is unable to render, please try loading this page with nbviewer.org.</b></div><div class=\"sk-container\" hidden><div class=\"sk-item\"><div class=\"sk-estimator sk-toggleable\"><input class=\"sk-toggleable__control sk-hidden--visually\" id=\"sk-estimator-id-2\" type=\"checkbox\" checked><label for=\"sk-estimator-id-2\" class=\"sk-toggleable__label sk-toggleable__label-arrow\">LogisticRegression</label><div class=\"sk-toggleable__content\"><pre>LogisticRegression(max_iter=1000, random_state=42)</pre></div></div></div></div></div>"
      ],
      "text/plain": [
       "LogisticRegression(max_iter=1000, random_state=42)"
      ]
     },
     "execution_count": 36,
     "metadata": {},
     "output_type": "execute_result"
    }
   ],
   "source": [
    "# Training the model on the entire resampled training set\n",
    "logreg.fit(X_train_resampled, y_train_resampled)"
   ]
  },
  {
   "cell_type": "code",
   "execution_count": 37,
   "metadata": {},
   "outputs": [],
   "source": [
    "# Predicting on the test set\n",
    "y_pred = logreg.predict(X_test)"
   ]
  },
  {
   "cell_type": "markdown",
   "metadata": {},
   "source": [
    "#### ROC-AUC Score"
   ]
  },
  {
   "cell_type": "code",
   "execution_count": 38,
   "metadata": {},
   "outputs": [
    {
     "name": "stdout",
     "output_type": "stream",
     "text": [
      "Test Data ROC-AUC Score: 0.7165\n"
     ]
    }
   ],
   "source": [
    "# Evaluating using ROC-AUC\n",
    "roc_auc = roc_auc_score(y_test, y_pred)\n",
    "print(f\"Test Data ROC-AUC Score: {roc_auc:.4f}\")"
   ]
  },
  {
   "cell_type": "code",
   "execution_count": 39,
   "metadata": {},
   "outputs": [
    {
     "data": {
      "image/png": "[encoded data removed]",
      "text/plain": [
       "<Figure size 216x216 with 1 Axes>"
      ]
     },
     "metadata": {
      "needs_background": "light"
     },
     "output_type": "display_data"
    }
   ],
   "source": [
    "# Confusion Matrix\n",
    "conf_matrix = confusion_matrix(y_test, y_pred)\n",
    "plt.figure(figsize=(3, 3))\n",
    "sns.heatmap(conf_matrix, annot=True, fmt='d', cmap='Spectral', cbar=False, square=True)\n",
    "plt.xlabel('Predicted')\n",
    "plt.ylabel('Actual')\n",
    "plt.title('Confusion Matrix')\n",
    "plt.show()"
   ]
  },
  {
   "cell_type": "code",
   "execution_count": 40,
   "metadata": {},
   "outputs": [
    {
     "name": "stdout",
     "output_type": "stream",
     "text": [
      "Classification Report:\n"
     ]
    },
    {
     "data": {
      "text/html": [
       "<div>\n",
       "<style scoped>\n",
       "    .dataframe tbody tr th:only-of-type {\n",
       "        vertical-align: middle;\n",
       "    }\n",
       "\n",
       "    .dataframe tbody tr th {\n",
       "        vertical-align: top;\n",
       "    }\n",
       "\n",
       "    .dataframe thead th {\n",
       "        text-align: right;\n",
       "    }\n",
       "</style>\n",
       "<table border=\"1\" class=\"dataframe\">\n",
       "  <thead>\n",
       "    <tr style=\"text-align: right;\">\n",
       "      <th></th>\n",
       "      <th>precision</th>\n",
       "      <th>recall</th>\n",
       "      <th>f1-score</th>\n",
       "      <th>support</th>\n",
       "    </tr>\n",
       "  </thead>\n",
       "  <tbody>\n",
       "    <tr>\n",
       "      <th>0</th>\n",
       "      <td>0.928726</td>\n",
       "      <td>0.759717</td>\n",
       "      <td>0.835763</td>\n",
       "      <td>566.000000</td>\n",
       "    </tr>\n",
       "    <tr>\n",
       "      <th>1</th>\n",
       "      <td>0.333333</td>\n",
       "      <td>0.673267</td>\n",
       "      <td>0.445902</td>\n",
       "      <td>101.000000</td>\n",
       "    </tr>\n",
       "    <tr>\n",
       "      <th>accuracy</th>\n",
       "      <td>0.746627</td>\n",
       "      <td>0.746627</td>\n",
       "      <td>0.746627</td>\n",
       "      <td>0.746627</td>\n",
       "    </tr>\n",
       "    <tr>\n",
       "      <th>macro avg</th>\n",
       "      <td>0.631030</td>\n",
       "      <td>0.716492</td>\n",
       "      <td>0.640832</td>\n",
       "      <td>667.000000</td>\n",
       "    </tr>\n",
       "    <tr>\n",
       "      <th>weighted avg</th>\n",
       "      <td>0.838569</td>\n",
       "      <td>0.746627</td>\n",
       "      <td>0.776728</td>\n",
       "      <td>667.000000</td>\n",
       "    </tr>\n",
       "  </tbody>\n",
       "</table>\n",
       "</div>"
      ],
      "text/plain": [
       "              precision    recall  f1-score     support\n",
       "0              0.928726  0.759717  0.835763  566.000000\n",
       "1              0.333333  0.673267  0.445902  101.000000\n",
       "accuracy       0.746627  0.746627  0.746627    0.746627\n",
       "macro avg      0.631030  0.716492  0.640832  667.000000\n",
       "weighted avg   0.838569  0.746627  0.776728  667.000000"
      ]
     },
     "execution_count": 40,
     "metadata": {},
     "output_type": "execute_result"
    }
   ],
   "source": [
    "# Converting the report dictionary to a DataFrame\n",
    "report = classification_report(y_test, y_pred, output_dict=True)  # Use output_dict=True\n",
    "report_df = pd.DataFrame(report).transpose()\n",
    "print(\"Classification Report:\")\n",
    "report_df"
   ]
  },
  {
   "cell_type": "markdown",
   "metadata": {},
   "source": [
    "### Observations:\n",
    "* The model's performance on the test set remains consistent with the baseline model. This means that while the resampling helped the model achieve better performance on the training data (as seen by the cross-validation results), it did not translate to a significant improvement in the test set.\n",
    "* The average ROC-AUC score from cross-validation on the resampled training data is **0.8353**, with a standard deviation of **0.0384**. This indicates a reasonably strong and consistent performance on the training data, suggesting that our model is effectively utilizing the information provided by SMOTE to classify both churned and retained customers.\n",
    "* The Logistic Regression model's linear nature might be a limiting factor. While it performs reasonably well, it might not be capturing some of the more complex, non-linear relationships in the dataset."
   ]
  },
  {
   "cell_type": "markdown",
   "metadata": {},
   "source": [
    "## b). Model 2 - Decision Tree Model\n",
    "We now build a second model using Decision Tree which are used for both regression and classification. They work by recursively splitting the dataset into two or more homogeneous sets based on the most significant attribute(s) at each level, making the decision at every node."
   ]
  },
  {
   "cell_type": "code",
   "execution_count": 41,
   "metadata": {},
   "outputs": [],
   "source": [
    "# Initializing the Decision Tree classifier\n",
    "dt_clf = DecisionTreeClassifier(random_state=42)\n",
    "\n",
    "# Training the model on the resampled data\n",
    "dt_clf.fit(X_train_resampled, y_train_resampled)\n",
    "\n",
    "# Predictions on the test set\n",
    "y_pred_dt = dt_clf.predict(X_test)"
   ]
  },
  {
   "cell_type": "code",
   "execution_count": 42,
   "metadata": {
    "scrolled": true
   },
   "outputs": [
    {
     "name": "stdout",
     "output_type": "stream",
     "text": [
      "Decision Tree ROC-AUC Score: 0.8199\n"
     ]
    }
   ],
   "source": [
    "# ROC-AUC Score\n",
    "roc_auc_dt = roc_auc_score(y_test, y_pred_dt)\n",
    "print(f\"Decision Tree ROC-AUC Score: {roc_auc_dt:.4f}\")"
   ]
  },
  {
   "cell_type": "markdown",
   "metadata": {},
   "source": [
    "The Decision Tree has an ROC-AUC score of **0.8199**. This score is a balance between the true positive rate and the false positive rate. A value close to 1 is considered good, and the current score suggests a reasonably strong model performance."
   ]
  },
  {
   "cell_type": "code",
   "execution_count": 43,
   "metadata": {},
   "outputs": [
    {
     "data": {
      "image/png": "[encoded data removed]",
      "text/plain": [
       "<Figure size 216x216 with 1 Axes>"
      ]
     },
     "metadata": {
      "needs_background": "light"
     },
     "output_type": "display_data"
    }
   ],
   "source": [
    "# Confusion Matrix\n",
    "conf_matrix_dt = confusion_matrix(y_test, y_pred_dt)\n",
    "plt.figure(figsize=(3, 3))\n",
    "sns.heatmap(conf_matrix_dt, annot=True, fmt='d', cmap='Spectral', cbar=False, square=True)\n",
    "plt.xlabel('Predicted')\n",
    "plt.ylabel('Actual')\n",
    "plt.title('Confusion Matrix for Decision Tree')\n",
    "plt.show()"
   ]
  },
  {
   "cell_type": "markdown",
   "metadata": {},
   "source": [
    "* **True Positives (TP):** 73 customers were correctly predicted to churn.\n",
    "* **True Negatives (TN):** 519 customers were correctly predicted not to churn.\n",
    "* **False Positives (FP):** 47 customers were incorrectly predicted to churn.\n",
    "* **False Negatives (FN):** 28 customers were incorrectly predicted not to churn.\n",
    "\n",
    "The model seems to be making more mistakes in predicting non-churn customers as churn (FP) compared to failing to identify actual churn customers (FN)."
   ]
  },
  {
   "cell_type": "code",
   "execution_count": 44,
   "metadata": {},
   "outputs": [
    {
     "name": "stdout",
     "output_type": "stream",
     "text": [
      "Classification Report for Decision Tree:\n"
     ]
    },
    {
     "data": {
      "text/html": [
       "<div>\n",
       "<style scoped>\n",
       "    .dataframe tbody tr th:only-of-type {\n",
       "        vertical-align: middle;\n",
       "    }\n",
       "\n",
       "    .dataframe tbody tr th {\n",
       "        vertical-align: top;\n",
       "    }\n",
       "\n",
       "    .dataframe thead th {\n",
       "        text-align: right;\n",
       "    }\n",
       "</style>\n",
       "<table border=\"1\" class=\"dataframe\">\n",
       "  <thead>\n",
       "    <tr style=\"text-align: right;\">\n",
       "      <th></th>\n",
       "      <th>precision</th>\n",
       "      <th>recall</th>\n",
       "      <th>f1-score</th>\n",
       "      <th>support</th>\n",
       "    </tr>\n",
       "  </thead>\n",
       "  <tbody>\n",
       "    <tr>\n",
       "      <th>0</th>\n",
       "      <td>0.948812</td>\n",
       "      <td>0.916961</td>\n",
       "      <td>0.932615</td>\n",
       "      <td>566.000000</td>\n",
       "    </tr>\n",
       "    <tr>\n",
       "      <th>1</th>\n",
       "      <td>0.608333</td>\n",
       "      <td>0.722772</td>\n",
       "      <td>0.660633</td>\n",
       "      <td>101.000000</td>\n",
       "    </tr>\n",
       "    <tr>\n",
       "      <th>accuracy</th>\n",
       "      <td>0.887556</td>\n",
       "      <td>0.887556</td>\n",
       "      <td>0.887556</td>\n",
       "      <td>0.887556</td>\n",
       "    </tr>\n",
       "    <tr>\n",
       "      <th>macro avg</th>\n",
       "      <td>0.778573</td>\n",
       "      <td>0.819867</td>\n",
       "      <td>0.796624</td>\n",
       "      <td>667.000000</td>\n",
       "    </tr>\n",
       "    <tr>\n",
       "      <th>weighted avg</th>\n",
       "      <td>0.897255</td>\n",
       "      <td>0.887556</td>\n",
       "      <td>0.891430</td>\n",
       "      <td>667.000000</td>\n",
       "    </tr>\n",
       "  </tbody>\n",
       "</table>\n",
       "</div>"
      ],
      "text/plain": [
       "              precision    recall  f1-score     support\n",
       "0              0.948812  0.916961  0.932615  566.000000\n",
       "1              0.608333  0.722772  0.660633  101.000000\n",
       "accuracy       0.887556  0.887556  0.887556    0.887556\n",
       "macro avg      0.778573  0.819867  0.796624  667.000000\n",
       "weighted avg   0.897255  0.887556  0.891430  667.000000"
      ]
     },
     "execution_count": 44,
     "metadata": {},
     "output_type": "execute_result"
    }
   ],
   "source": [
    "# Classification Report\n",
    "report_dt = classification_report(y_test, y_pred_dt, output_dict=True)\n",
    "report_df_dt = pd.DataFrame(report_dt).transpose()\n",
    "print(\"Classification Report for Decision Tree:\")\n",
    "report_df_dt"
   ]
  },
  {
   "cell_type": "markdown",
   "metadata": {},
   "source": [
    "* **Precision (Class 0):** Of all the predictions the model made for non-churning customers, **94.5%** were correct.\n",
    "* **Precision (Class 1):** Of all the predictions the model made for churning customers, **60.8%** were correct.\n",
    "* **Recall (Class 0):** The model correctly identified **91.7%** of the actual non-churning customers.\n",
    "* **Recall (Class 1):** The model correctly identified **72.3%** of the actual churning customers.\n",
    "* **F1-score:** The harmonic mean of precision and recall. For non-churning customers, it's **93.3%**, and for churning customers, it's **66.1%**.\n",
    "* **Accuracy: Overall**, the model made correct predictions **88.8%** of the time."
   ]
  },
  {
   "cell_type": "code",
   "execution_count": 45,
   "metadata": {
    "scrolled": false
   },
   "outputs": [
    {
     "data": {
      "image/png": "[encoded data removed]",
      "text/plain": [
       "<Figure size 864x360 with 1 Axes>"
      ]
     },
     "metadata": {
      "needs_background": "light"
     },
     "output_type": "display_data"
    }
   ],
   "source": [
    "# Extracting feature importances\n",
    "feature_importances_dt = dt_clf.feature_importances_\n",
    "\n",
    "# Creating a DataFrame for visualization\n",
    "features_df_dt = pd.DataFrame({\n",
    "    'Feature': X.columns,\n",
    "    'Importance': feature_importances_dt\n",
    "})\n",
    "\n",
    "# Sorting the features based on importance\n",
    "features_df_dt = features_df_dt.sort_values(by='Importance', ascending=False)\n",
    "\n",
    "# Plotting\n",
    "plt.figure(figsize=(12, 5))\n",
    "sns.barplot(x='Importance', y='Feature', data=features_df_dt, palette='viridis')\n",
    "plt.title('Feature Importance for Decision Tree')\n",
    "plt.xlabel('Importance')\n",
    "plt.ylabel('Feature')\n",
    "plt.show()"
   ]
  },
  {
   "cell_type": "markdown",
   "metadata": {},
   "source": [
    "### Observations\n",
    "* The features related to the daily usage, such as **customer service calls** appear to be the most influential in predicting customer churn followed by and **total day minutes**.\n",
    "* The **account length** is the least influencial feature. This suggests that according to our model, the duration of time a customer has been using the service has no major significant impact on whether they'll churn or not."
   ]
  },
  {
   "cell_type": "markdown",
   "metadata": {},
   "source": [
    "## c). Model 3 -  Ensemble Method: Random Forest Model\n",
    "Random Forest is an ensemble learning method that can handle binary, categorical, and regression tasks. It can capture non-linear relationships, handle interactions between features well, and generally provide higher accuracy than simpler models. It also has built-in feature importance, which can offer insights into which features are most influential in predicting churn."
   ]
  },
  {
   "cell_type": "code",
   "execution_count": 46,
   "metadata": {},
   "outputs": [
    {
     "data": {
      "text/html": [
       "<style>#sk-container-id-3 {color: black;}#sk-container-id-3 pre{padding: 0;}#sk-container-id-3 div.sk-toggleable {background-color: white;}#sk-container-id-3 label.sk-toggleable__label {cursor: pointer;display: block;width: 100%;margin-bottom: 0;padding: 0.3em;box-sizing: border-box;text-align: center;}#sk-container-id-3 label.sk-toggleable__label-arrow:before {content: \"▸\";float: left;margin-right: 0.25em;color: #696969;}#sk-container-id-3 label.sk-toggleable__label-arrow:hover:before {color: black;}#sk-container-id-3 div.sk-estimator:hover label.sk-toggleable__label-arrow:before {color: black;}#sk-container-id-3 div.sk-toggleable__content {max-height: 0;max-width: 0;overflow: hidden;text-align: left;background-color: #f0f8ff;}#sk-container-id-3 div.sk-toggleable__content pre {margin: 0.2em;color: black;border-radius: 0.25em;background-color: #f0f8ff;}#sk-container-id-3 input.sk-toggleable__control:checked~div.sk-toggleable__content {max-height: 200px;max-width: 100%;overflow: auto;}#sk-container-id-3 input.sk-toggleable__control:checked~label.sk-toggleable__label-arrow:before {content: \"▾\";}#sk-container-id-3 div.sk-estimator input.sk-toggleable__control:checked~label.sk-toggleable__label {background-color: #d4ebff;}#sk-container-id-3 div.sk-label input.sk-toggleable__control:checked~label.sk-toggleable__label {background-color: #d4ebff;}#sk-container-id-3 input.sk-hidden--visually {border: 0;clip: rect(1px 1px 1px 1px);clip: rect(1px, 1px, 1px, 1px);height: 1px;margin: -1px;overflow: hidden;padding: 0;position: absolute;width: 1px;}#sk-container-id-3 div.sk-estimator {font-family: monospace;background-color: #f0f8ff;border: 1px dotted black;border-radius: 0.25em;box-sizing: border-box;margin-bottom: 0.5em;}#sk-container-id-3 div.sk-estimator:hover {background-color: #d4ebff;}#sk-container-id-3 div.sk-parallel-item::after {content: \"\";width: 100%;border-bottom: 1px solid gray;flex-grow: 1;}#sk-container-id-3 div.sk-label:hover label.sk-toggleable__label {background-color: #d4ebff;}#sk-container-id-3 div.sk-serial::before {content: \"\";position: absolute;border-left: 1px solid gray;box-sizing: border-box;top: 0;bottom: 0;left: 50%;z-index: 0;}#sk-container-id-3 div.sk-serial {display: flex;flex-direction: column;align-items: center;background-color: white;padding-right: 0.2em;padding-left: 0.2em;position: relative;}#sk-container-id-3 div.sk-item {position: relative;z-index: 1;}#sk-container-id-3 div.sk-parallel {display: flex;align-items: stretch;justify-content: center;background-color: white;position: relative;}#sk-container-id-3 div.sk-item::before, #sk-container-id-3 div.sk-parallel-item::before {content: \"\";position: absolute;border-left: 1px solid gray;box-sizing: border-box;top: 0;bottom: 0;left: 50%;z-index: -1;}#sk-container-id-3 div.sk-parallel-item {display: flex;flex-direction: column;z-index: 1;position: relative;background-color: white;}#sk-container-id-3 div.sk-parallel-item:first-child::after {align-self: flex-end;width: 50%;}#sk-container-id-3 div.sk-parallel-item:last-child::after {align-self: flex-start;width: 50%;}#sk-container-id-3 div.sk-parallel-item:only-child::after {width: 0;}#sk-container-id-3 div.sk-dashed-wrapped {border: 1px dashed gray;margin: 0 0.4em 0.5em 0.4em;box-sizing: border-box;padding-bottom: 0.4em;background-color: white;}#sk-container-id-3 div.sk-label label {font-family: monospace;font-weight: bold;display: inline-block;line-height: 1.2em;}#sk-container-id-3 div.sk-label-container {text-align: center;}#sk-container-id-3 div.sk-container {/* jupyter's `normalize.less` sets `[hidden] { display: none; }` but bootstrap.min.css set `[hidden] { display: none !important; }` so we also need the `!important` here to be able to override the default hidden behavior on the sphinx rendered scikit-learn.org. See: https://github.com/scikit-learn/scikit-learn/issues/21755 */display: inline-block !important;position: relative;}#sk-container-id-3 div.sk-text-repr-fallback {display: none;}</style><div id=\"sk-container-id-3\" class=\"sk-top-container\"><div class=\"sk-text-repr-fallback\"><pre>RandomForestClassifier(random_state=42)</pre><b>In a Jupyter environment, please rerun this cell to show the HTML representation or trust the notebook. <br />On GitHub, the HTML representation is unable to render, please try loading this page with nbviewer.org.</b></div><div class=\"sk-container\" hidden><div class=\"sk-item\"><div class=\"sk-estimator sk-toggleable\"><input class=\"sk-toggleable__control sk-hidden--visually\" id=\"sk-estimator-id-3\" type=\"checkbox\" checked><label for=\"sk-estimator-id-3\" class=\"sk-toggleable__label sk-toggleable__label-arrow\">RandomForestClassifier</label><div class=\"sk-toggleable__content\"><pre>RandomForestClassifier(random_state=42)</pre></div></div></div></div></div>"
      ],
      "text/plain": [
       "RandomForestClassifier(random_state=42)"
      ]
     },
     "execution_count": 46,
     "metadata": {},
     "output_type": "execute_result"
    }
   ],
   "source": [
    "# Initializing the Random Forest Classifier\n",
    "rf = RandomForestClassifier(n_estimators=100, random_state=42)\n",
    "\n",
    "# Trainning the model on the resampled training data\n",
    "rf.fit(X_train_resampled, y_train_resampled)"
   ]
  },
  {
   "cell_type": "code",
   "execution_count": 47,
   "metadata": {},
   "outputs": [],
   "source": [
    "# Predicting on the test set\n",
    "y_pred_rf = rf.predict(X_test)"
   ]
  },
  {
   "cell_type": "markdown",
   "metadata": {},
   "source": [
    "#### Model 3  ROC-AUC"
   ]
  },
  {
   "cell_type": "code",
   "execution_count": 48,
   "metadata": {},
   "outputs": [
    {
     "name": "stdout",
     "output_type": "stream",
     "text": [
      "Random Forest Test Data ROC-AUC Score: 0.8370\n"
     ]
    }
   ],
   "source": [
    "# Evaluating using ROC-AUC\n",
    "roc_auc_rf = roc_auc_score(y_test, y_pred_rf)\n",
    "print(f\"Random Forest Test Data ROC-AUC Score: {roc_auc_rf:.4f}\")"
   ]
  },
  {
   "cell_type": "markdown",
   "metadata": {},
   "source": [
    "#### Model 3  Confusion Matrix"
   ]
  },
  {
   "cell_type": "code",
   "execution_count": 49,
   "metadata": {},
   "outputs": [
    {
     "data": {
      "image/png": "[encoded data removed]",
      "text/plain": [
       "<Figure size 216x216 with 1 Axes>"
      ]
     },
     "metadata": {
      "needs_background": "light"
     },
     "output_type": "display_data"
    }
   ],
   "source": [
    "# Confusion Matrix\n",
    "conf_matrix_rf = confusion_matrix(y_test, y_pred_rf)\n",
    "plt.figure(figsize=(3, 3))\n",
    "sns.heatmap(conf_matrix_rf, annot=True, fmt='d', cmap='coolwarm', cbar=False, square=True)\n",
    "plt.xlabel('Predicted')\n",
    "plt.ylabel('Actual')\n",
    "plt.title('Confusion Matrix for Random Forest')\n",
    "plt.show()"
   ]
  },
  {
   "cell_type": "code",
   "execution_count": 50,
   "metadata": {},
   "outputs": [
    {
     "name": "stdout",
     "output_type": "stream",
     "text": [
      "\n",
      "Random Forest Classification Report:\n"
     ]
    },
    {
     "data": {
      "text/html": [
       "<div>\n",
       "<style scoped>\n",
       "    .dataframe tbody tr th:only-of-type {\n",
       "        vertical-align: middle;\n",
       "    }\n",
       "\n",
       "    .dataframe tbody tr th {\n",
       "        vertical-align: top;\n",
       "    }\n",
       "\n",
       "    .dataframe thead th {\n",
       "        text-align: right;\n",
       "    }\n",
       "</style>\n",
       "<table border=\"1\" class=\"dataframe\">\n",
       "  <thead>\n",
       "    <tr style=\"text-align: right;\">\n",
       "      <th></th>\n",
       "      <th>precision</th>\n",
       "      <th>recall</th>\n",
       "      <th>f1-score</th>\n",
       "      <th>support</th>\n",
       "    </tr>\n",
       "  </thead>\n",
       "  <tbody>\n",
       "    <tr>\n",
       "      <th>0</th>\n",
       "      <td>0.949389</td>\n",
       "      <td>0.961131</td>\n",
       "      <td>0.955224</td>\n",
       "      <td>566.000000</td>\n",
       "    </tr>\n",
       "    <tr>\n",
       "      <th>1</th>\n",
       "      <td>0.765957</td>\n",
       "      <td>0.712871</td>\n",
       "      <td>0.738462</td>\n",
       "      <td>101.000000</td>\n",
       "    </tr>\n",
       "    <tr>\n",
       "      <th>accuracy</th>\n",
       "      <td>0.923538</td>\n",
       "      <td>0.923538</td>\n",
       "      <td>0.923538</td>\n",
       "      <td>0.923538</td>\n",
       "    </tr>\n",
       "    <tr>\n",
       "      <th>macro avg</th>\n",
       "      <td>0.857673</td>\n",
       "      <td>0.837001</td>\n",
       "      <td>0.846843</td>\n",
       "      <td>667.000000</td>\n",
       "    </tr>\n",
       "    <tr>\n",
       "      <th>weighted avg</th>\n",
       "      <td>0.921613</td>\n",
       "      <td>0.923538</td>\n",
       "      <td>0.922401</td>\n",
       "      <td>667.000000</td>\n",
       "    </tr>\n",
       "  </tbody>\n",
       "</table>\n",
       "</div>"
      ],
      "text/plain": [
       "              precision    recall  f1-score     support\n",
       "0              0.949389  0.961131  0.955224  566.000000\n",
       "1              0.765957  0.712871  0.738462  101.000000\n",
       "accuracy       0.923538  0.923538  0.923538    0.923538\n",
       "macro avg      0.857673  0.837001  0.846843  667.000000\n",
       "weighted avg   0.921613  0.923538  0.922401  667.000000"
      ]
     },
     "execution_count": 50,
     "metadata": {},
     "output_type": "execute_result"
    }
   ],
   "source": [
    "# Classification Report\n",
    "report_rf = classification_report(y_test, y_pred_rf, output_dict=True)\n",
    "report_df = pd.DataFrame(report_rf).transpose()\n",
    "print(\"\\nRandom Forest Classification Report:\")\n",
    "report_df"
   ]
  },
  {
   "cell_type": "markdown",
   "metadata": {},
   "source": [
    "### Observations:\n",
    "* The model achieved an **accuracy** of approximately **92.35%** on the test data. This is a significant improvement over the logistic regression model.\n",
    "* The **ROC-AUC** score of **0.8370** is higher than the logistic regression model's score.\n",
    "* The model has **reduced** the number of **false positives** compared to the logistic regression model. This is crucial because falsely predicting a loyal customer as a churn might lead to unnecessary retention offers, costing the company.\n",
    "* **Precision for Churn (1):** **76.60%** of the predicted churn cases were actual churn cases. This indicates a reduced likelihood of false alarms.\n",
    "* **Recall for Churn (1):** The model identified approximately **71.29%** of all actual churn cases, which is a good detection rate but suggests there's room for improvement.\n",
    "* **F1-Score:** The F1-score for churn cases is **73.85%**, indicating a good balance between precision and recall.\n",
    "\n",
    "While the results are promising, We should consider tuning the hyperparameters of the Random Forest for further optimization."
   ]
  },
  {
   "cell_type": "markdown",
   "metadata": {},
   "source": [
    "### Model 3 Hyperparameter Tuning"
   ]
  },
  {
   "cell_type": "code",
   "execution_count": 51,
   "metadata": {},
   "outputs": [
    {
     "name": "stdout",
     "output_type": "stream",
     "text": [
      "Fitting 5 folds for each of 20 candidates, totalling 100 fits\n",
      "Optimized Random Forest ROC-AUC Score: 0.8370\n"
     ]
    }
   ],
   "source": [
    "# Defining the parameter grid for grid search\n",
    "param_dist = {\n",
    "    'n_estimators': [50, 100, 200],\n",
    "    'max_depth': [None, 10, 20, 30],\n",
    "    'min_samples_split': [2, 5, 10],\n",
    "    'min_samples_leaf': [1, 2, 4],\n",
    "    'max_features': ['auto', 'sqrt']\n",
    "}\n",
    "\n",
    "# Creating an instance of the Random Forest classifier\n",
    "rf_clf = RandomForestClassifier(random_state=42)\n",
    "\n",
    "# Initialize RandomizedSearchCV with 5-fold cross-validation\n",
    "random_search = RandomizedSearchCV(rf_clf, param_distributions=param_dist, n_iter=20, scoring='roc_auc', \n",
    "                                   cv=5, n_jobs=-1, verbose=2, random_state=42)\n",
    "\n",
    "# Fit RandomizedSearchCV on the resampled training data\n",
    "random_search.fit(X_train_resampled, y_train_resampled)\n",
    "\n",
    "# Extract the best hyperparameters\n",
    "best_params = random_search.best_params_\n",
    "\n",
    "# Train the model using the best hyperparameters\n",
    "best_rf = RandomForestClassifier(**best_params, random_state=42)\n",
    "best_rf.fit(X_train_resampled, y_train_resampled)\n",
    "\n",
    "# Predict & evaluate\n",
    "y_pred_best_rf = best_rf.predict(X_test)\n",
    "roc_auc_best_rf = roc_auc_score(y_test, y_pred_best_rf)\n",
    "print(f\"Optimized Random Forest ROC-AUC Score: {roc_auc_best_rf:.4f}\")"
   ]
  },
  {
   "cell_type": "code",
   "execution_count": 52,
   "metadata": {},
   "outputs": [
    {
     "data": {
      "image/png": "[encoded data removed]",
      "text/plain": [
       "<Figure size 216x216 with 1 Axes>"
      ]
     },
     "metadata": {
      "needs_background": "light"
     },
     "output_type": "display_data"
    }
   ],
   "source": [
    "# Computing the confusion matrix\n",
    "conf_matrix_rf_optimized = confusion_matrix(y_test, y_pred_best_rf)\n",
    "\n",
    "# Visualizing the confusion matrix\n",
    "plt.figure(figsize=(3, 3))\n",
    "sns.heatmap(conf_matrix_rf_optimized, annot=True, fmt='d', cmap='Spectral', cbar=False, square=True)\n",
    "plt.xlabel('Predicted')\n",
    "plt.ylabel('Actual')\n",
    "plt.title('Confusion Matrix for Optimized Random Forest')\n",
    "plt.show()"
   ]
  },
  {
   "cell_type": "code",
   "execution_count": 53,
   "metadata": {
    "scrolled": true
   },
   "outputs": [
    {
     "name": "stdout",
     "output_type": "stream",
     "text": [
      "Classification Report for Optimized Random Forest:\n"
     ]
    },
    {
     "data": {
      "text/html": [
       "<div>\n",
       "<style scoped>\n",
       "    .dataframe tbody tr th:only-of-type {\n",
       "        vertical-align: middle;\n",
       "    }\n",
       "\n",
       "    .dataframe tbody tr th {\n",
       "        vertical-align: top;\n",
       "    }\n",
       "\n",
       "    .dataframe thead th {\n",
       "        text-align: right;\n",
       "    }\n",
       "</style>\n",
       "<table border=\"1\" class=\"dataframe\">\n",
       "  <thead>\n",
       "    <tr style=\"text-align: right;\">\n",
       "      <th></th>\n",
       "      <th>precision</th>\n",
       "      <th>recall</th>\n",
       "      <th>f1-score</th>\n",
       "      <th>support</th>\n",
       "    </tr>\n",
       "  </thead>\n",
       "  <tbody>\n",
       "    <tr>\n",
       "      <th>0</th>\n",
       "      <td>0.949389</td>\n",
       "      <td>0.961131</td>\n",
       "      <td>0.955224</td>\n",
       "      <td>566.000000</td>\n",
       "    </tr>\n",
       "    <tr>\n",
       "      <th>1</th>\n",
       "      <td>0.765957</td>\n",
       "      <td>0.712871</td>\n",
       "      <td>0.738462</td>\n",
       "      <td>101.000000</td>\n",
       "    </tr>\n",
       "    <tr>\n",
       "      <th>accuracy</th>\n",
       "      <td>0.923538</td>\n",
       "      <td>0.923538</td>\n",
       "      <td>0.923538</td>\n",
       "      <td>0.923538</td>\n",
       "    </tr>\n",
       "    <tr>\n",
       "      <th>macro avg</th>\n",
       "      <td>0.857673</td>\n",
       "      <td>0.837001</td>\n",
       "      <td>0.846843</td>\n",
       "      <td>667.000000</td>\n",
       "    </tr>\n",
       "    <tr>\n",
       "      <th>weighted avg</th>\n",
       "      <td>0.921613</td>\n",
       "      <td>0.923538</td>\n",
       "      <td>0.922401</td>\n",
       "      <td>667.000000</td>\n",
       "    </tr>\n",
       "  </tbody>\n",
       "</table>\n",
       "</div>"
      ],
      "text/plain": [
       "              precision    recall  f1-score     support\n",
       "0              0.949389  0.961131  0.955224  566.000000\n",
       "1              0.765957  0.712871  0.738462  101.000000\n",
       "accuracy       0.923538  0.923538  0.923538    0.923538\n",
       "macro avg      0.857673  0.837001  0.846843  667.000000\n",
       "weighted avg   0.921613  0.923538  0.922401  667.000000"
      ]
     },
     "execution_count": 53,
     "metadata": {},
     "output_type": "execute_result"
    }
   ],
   "source": [
    "# Generating and printing the classification report\n",
    "report_rf_optimized = classification_report(y_test, y_pred_best_rf, output_dict=True)\n",
    "report_rf_optimized_df =  pd.DataFrame(report_rf_optimized).transpose()\n",
    "print(\"Classification Report for Optimized Random Forest:\")\n",
    "report_rf_optimized_df"
   ]
  },
  {
   "cell_type": "markdown",
   "metadata": {},
   "source": [
    "### Feature Importance\n",
    "Let's check the importance of each feature. Features with higher importance are those that, on average, led to a more significant decrease in impurity when used in the trees within the Random Forest."
   ]
  },
  {
   "cell_type": "code",
   "execution_count": 54,
   "metadata": {
    "scrolled": false
   },
   "outputs": [
    {
     "data": {
      "image/png": "[encoded data removed]",
      "text/plain": [
       "<Figure size 1152x244.8 with 1 Axes>"
      ]
     },
     "metadata": {
      "needs_background": "light"
     },
     "output_type": "display_data"
    }
   ],
   "source": [
    "# Extracting feature importances from the trained Random Forest model\n",
    "importances = best_rf.feature_importances_\n",
    "\n",
    "# Sorting feature importances in descending order and getting the feature indices\n",
    "indices = np.argsort(importances)[::-1]\n",
    "\n",
    "# Rearranging feature names so they match the sorted feature importances\n",
    "names = [X.columns[i] for i in indices]\n",
    "\n",
    "# Visualizing feature importance\n",
    "plt.figure(figsize=(16, 3.4))\n",
    "plt.title(\"Feature Importance - Random Forest\")\n",
    "plt.bar(range(X.shape[1]), importances[indices],)\n",
    "plt.xticks(range(X.shape[1]), names, rotation=90)\n",
    "plt.show()"
   ]
  },
  {
   "cell_type": "markdown",
   "metadata": {},
   "source": [
    "### Random Forest accuracy on entire dataset.\n",
    "Using the Random Forest model to make predictions on our original dataframe and checking its accuracy to justify it's efficiency."
   ]
  },
  {
   "cell_type": "code",
   "execution_count": 55,
   "metadata": {},
   "outputs": [
    {
     "name": "stdout",
     "output_type": "stream",
     "text": [
      "Accuracy on the entire dataset: 0.9847\n"
     ]
    }
   ],
   "source": [
    "# Using the model to predict churn probabilities for the entire dataset\n",
    "predicted_probabilities = best_rf.predict_proba(df.drop('churn', axis=1))[:, 1]\n",
    "\n",
    "# Converting probabilities to class labels based on a 0.5 threshold\n",
    "predicted_labels = [1 if prob > 0.5 else 0 for prob in predicted_probabilities]\n",
    "\n",
    "# Comparing predicted labels with actual labels to calculate accuracy\n",
    "accuracy = sum(predicted_labels == df['churn']) / len(df)\n",
    "print(f\"Accuracy on the entire dataset: {accuracy:.4f}\")\n",
    "\n",
    "# Adding predictions to the dataframe\n",
    "df['predicted_churn'] = predicted_labels"
   ]
  },
  {
   "cell_type": "code",
   "execution_count": 58,
   "metadata": {},
   "outputs": [
    {
     "data": {
      "text/html": [
       "<div>\n",
       "<style scoped>\n",
       "    .dataframe tbody tr th:only-of-type {\n",
       "        vertical-align: middle;\n",
       "    }\n",
       "\n",
       "    .dataframe tbody tr th {\n",
       "        vertical-align: top;\n",
       "    }\n",
       "\n",
       "    .dataframe thead th {\n",
       "        text-align: right;\n",
       "    }\n",
       "</style>\n",
       "<table border=\"1\" class=\"dataframe\">\n",
       "  <thead>\n",
       "    <tr style=\"text-align: right;\">\n",
       "      <th></th>\n",
       "      <th>account length</th>\n",
       "      <th>international plan</th>\n",
       "      <th>voice mail plan</th>\n",
       "      <th>number vmail messages</th>\n",
       "      <th>total day minutes</th>\n",
       "      <th>total day calls</th>\n",
       "      <th>total eve minutes</th>\n",
       "      <th>total eve calls</th>\n",
       "      <th>total night minutes</th>\n",
       "      <th>total night calls</th>\n",
       "      <th>total intl minutes</th>\n",
       "      <th>total intl calls</th>\n",
       "      <th>customer service calls</th>\n",
       "      <th>churn</th>\n",
       "      <th>predicted_churn</th>\n",
       "    </tr>\n",
       "  </thead>\n",
       "  <tbody>\n",
       "    <tr>\n",
       "      <th>2408</th>\n",
       "      <td>-0.832614</td>\n",
       "      <td>0</td>\n",
       "      <td>0</td>\n",
       "      <td>-0.591778</td>\n",
       "      <td>0.971184</td>\n",
       "      <td>76</td>\n",
       "      <td>-0.946734</td>\n",
       "      <td>103</td>\n",
       "      <td>0.274826</td>\n",
       "      <td>107</td>\n",
       "      <td>0.090210</td>\n",
       "      <td>2</td>\n",
       "      <td>-0.430249</td>\n",
       "      <td>0</td>\n",
       "      <td>0</td>\n",
       "    </tr>\n",
       "    <tr>\n",
       "      <th>1675</th>\n",
       "      <td>-0.201909</td>\n",
       "      <td>0</td>\n",
       "      <td>0</td>\n",
       "      <td>-0.591778</td>\n",
       "      <td>-0.703977</td>\n",
       "      <td>95</td>\n",
       "      <td>0.396685</td>\n",
       "      <td>100</td>\n",
       "      <td>0.524272</td>\n",
       "      <td>71</td>\n",
       "      <td>-0.020060</td>\n",
       "      <td>3</td>\n",
       "      <td>-1.333569</td>\n",
       "      <td>0</td>\n",
       "      <td>0</td>\n",
       "    </tr>\n",
       "    <tr>\n",
       "      <th>498</th>\n",
       "      <td>-0.656017</td>\n",
       "      <td>1</td>\n",
       "      <td>0</td>\n",
       "      <td>-0.591778</td>\n",
       "      <td>0.581483</td>\n",
       "      <td>61</td>\n",
       "      <td>-1.893279</td>\n",
       "      <td>119</td>\n",
       "      <td>-0.497457</td>\n",
       "      <td>63</td>\n",
       "      <td>-0.203843</td>\n",
       "      <td>4</td>\n",
       "      <td>1.828050</td>\n",
       "      <td>1</td>\n",
       "      <td>1</td>\n",
       "    </tr>\n",
       "    <tr>\n",
       "      <th>1919</th>\n",
       "      <td>-0.025311</td>\n",
       "      <td>0</td>\n",
       "      <td>0</td>\n",
       "      <td>-0.591778</td>\n",
       "      <td>-2.013446</td>\n",
       "      <td>94</td>\n",
       "      <td>0.289529</td>\n",
       "      <td>102</td>\n",
       "      <td>0.598108</td>\n",
       "      <td>125</td>\n",
       "      <td>-0.277356</td>\n",
       "      <td>1</td>\n",
       "      <td>1.828050</td>\n",
       "      <td>1</td>\n",
       "      <td>1</td>\n",
       "    </tr>\n",
       "    <tr>\n",
       "      <th>1505</th>\n",
       "      <td>1.564066</td>\n",
       "      <td>0</td>\n",
       "      <td>0</td>\n",
       "      <td>-0.591778</td>\n",
       "      <td>0.797573</td>\n",
       "      <td>120</td>\n",
       "      <td>0.515747</td>\n",
       "      <td>98</td>\n",
       "      <td>-0.250007</td>\n",
       "      <td>125</td>\n",
       "      <td>-0.534653</td>\n",
       "      <td>5</td>\n",
       "      <td>-0.430249</td>\n",
       "      <td>0</td>\n",
       "      <td>0</td>\n",
       "    </tr>\n",
       "    <tr>\n",
       "      <th>1921</th>\n",
       "      <td>0.882904</td>\n",
       "      <td>0</td>\n",
       "      <td>0</td>\n",
       "      <td>-0.591778</td>\n",
       "      <td>-1.442746</td>\n",
       "      <td>105</td>\n",
       "      <td>0.035529</td>\n",
       "      <td>99</td>\n",
       "      <td>-1.289697</td>\n",
       "      <td>119</td>\n",
       "      <td>-0.314113</td>\n",
       "      <td>6</td>\n",
       "      <td>1.376390</td>\n",
       "      <td>0</td>\n",
       "      <td>0</td>\n",
       "    </tr>\n",
       "    <tr>\n",
       "      <th>3312</th>\n",
       "      <td>2.018174</td>\n",
       "      <td>0</td>\n",
       "      <td>0</td>\n",
       "      <td>-0.591778</td>\n",
       "      <td>0.925011</td>\n",
       "      <td>130</td>\n",
       "      <td>-1.123343</td>\n",
       "      <td>93</td>\n",
       "      <td>1.228707</td>\n",
       "      <td>110</td>\n",
       "      <td>1.450205</td>\n",
       "      <td>4</td>\n",
       "      <td>0.473071</td>\n",
       "      <td>0</td>\n",
       "      <td>0</td>\n",
       "    </tr>\n",
       "    <tr>\n",
       "      <th>727</th>\n",
       "      <td>-0.933527</td>\n",
       "      <td>0</td>\n",
       "      <td>0</td>\n",
       "      <td>-0.591778</td>\n",
       "      <td>0.830818</td>\n",
       "      <td>111</td>\n",
       "      <td>-0.218470</td>\n",
       "      <td>101</td>\n",
       "      <td>0.410525</td>\n",
       "      <td>110</td>\n",
       "      <td>-0.387626</td>\n",
       "      <td>2</td>\n",
       "      <td>-0.430249</td>\n",
       "      <td>0</td>\n",
       "      <td>0</td>\n",
       "    </tr>\n",
       "    <tr>\n",
       "      <th>1125</th>\n",
       "      <td>0.252199</td>\n",
       "      <td>0</td>\n",
       "      <td>0</td>\n",
       "      <td>-0.591778</td>\n",
       "      <td>-0.692895</td>\n",
       "      <td>75</td>\n",
       "      <td>-1.551967</td>\n",
       "      <td>106</td>\n",
       "      <td>0.572166</td>\n",
       "      <td>94</td>\n",
       "      <td>0.935612</td>\n",
       "      <td>9</td>\n",
       "      <td>0.473071</td>\n",
       "      <td>0</td>\n",
       "      <td>0</td>\n",
       "    </tr>\n",
       "    <tr>\n",
       "      <th>3179</th>\n",
       "      <td>0.226971</td>\n",
       "      <td>0</td>\n",
       "      <td>0</td>\n",
       "      <td>-0.591778</td>\n",
       "      <td>0.236108</td>\n",
       "      <td>102</td>\n",
       "      <td>-0.438735</td>\n",
       "      <td>118</td>\n",
       "      <td>0.274826</td>\n",
       "      <td>74</td>\n",
       "      <td>-0.314113</td>\n",
       "      <td>4</td>\n",
       "      <td>-0.430249</td>\n",
       "      <td>0</td>\n",
       "      <td>0</td>\n",
       "    </tr>\n",
       "    <tr>\n",
       "      <th>2951</th>\n",
       "      <td>-1.211037</td>\n",
       "      <td>0</td>\n",
       "      <td>0</td>\n",
       "      <td>-0.591778</td>\n",
       "      <td>-1.110300</td>\n",
       "      <td>113</td>\n",
       "      <td>-0.224423</td>\n",
       "      <td>84</td>\n",
       "      <td>1.104982</td>\n",
       "      <td>108</td>\n",
       "      <td>0.972369</td>\n",
       "      <td>7</td>\n",
       "      <td>0.473071</td>\n",
       "      <td>0</td>\n",
       "      <td>0</td>\n",
       "    </tr>\n",
       "    <tr>\n",
       "      <th>2614</th>\n",
       "      <td>0.605394</td>\n",
       "      <td>1</td>\n",
       "      <td>0</td>\n",
       "      <td>-0.591778</td>\n",
       "      <td>2.190154</td>\n",
       "      <td>78</td>\n",
       "      <td>1.378948</td>\n",
       "      <td>142</td>\n",
       "      <td>-1.866416</td>\n",
       "      <td>84</td>\n",
       "      <td>0.715072</td>\n",
       "      <td>2</td>\n",
       "      <td>-1.333569</td>\n",
       "      <td>1</td>\n",
       "      <td>1</td>\n",
       "    </tr>\n",
       "    <tr>\n",
       "      <th>2638</th>\n",
       "      <td>0.100830</td>\n",
       "      <td>0</td>\n",
       "      <td>0</td>\n",
       "      <td>-0.591778</td>\n",
       "      <td>-1.005025</td>\n",
       "      <td>116</td>\n",
       "      <td>1.200355</td>\n",
       "      <td>95</td>\n",
       "      <td>0.813629</td>\n",
       "      <td>104</td>\n",
       "      <td>0.421019</td>\n",
       "      <td>9</td>\n",
       "      <td>0.473071</td>\n",
       "      <td>0</td>\n",
       "      <td>0</td>\n",
       "    </tr>\n",
       "    <tr>\n",
       "      <th>2056</th>\n",
       "      <td>-0.000083</td>\n",
       "      <td>0</td>\n",
       "      <td>0</td>\n",
       "      <td>-0.591778</td>\n",
       "      <td>-0.805557</td>\n",
       "      <td>92</td>\n",
       "      <td>0.394700</td>\n",
       "      <td>110</td>\n",
       "      <td>-0.078389</td>\n",
       "      <td>116</td>\n",
       "      <td>1.119395</td>\n",
       "      <td>7</td>\n",
       "      <td>1.376390</td>\n",
       "      <td>0</td>\n",
       "      <td>0</td>\n",
       "    </tr>\n",
       "    <tr>\n",
       "      <th>2065</th>\n",
       "      <td>0.302655</td>\n",
       "      <td>0</td>\n",
       "      <td>0</td>\n",
       "      <td>-0.591778</td>\n",
       "      <td>0.114211</td>\n",
       "      <td>55</td>\n",
       "      <td>0.722122</td>\n",
       "      <td>105</td>\n",
       "      <td>-1.052225</td>\n",
       "      <td>83</td>\n",
       "      <td>0.715072</td>\n",
       "      <td>6</td>\n",
       "      <td>-0.430249</td>\n",
       "      <td>0</td>\n",
       "      <td>0</td>\n",
       "    </tr>\n",
       "  </tbody>\n",
       "</table>\n",
       "</div>"
      ],
      "text/plain": [
       "      account length  international plan  voice mail plan  \\\n",
       "2408       -0.832614                   0                0   \n",
       "1675       -0.201909                   0                0   \n",
       "498        -0.656017                   1                0   \n",
       "1919       -0.025311                   0                0   \n",
       "1505        1.564066                   0                0   \n",
       "1921        0.882904                   0                0   \n",
       "3312        2.018174                   0                0   \n",
       "727        -0.933527                   0                0   \n",
       "1125        0.252199                   0                0   \n",
       "3179        0.226971                   0                0   \n",
       "2951       -1.211037                   0                0   \n",
       "2614        0.605394                   1                0   \n",
       "2638        0.100830                   0                0   \n",
       "2056       -0.000083                   0                0   \n",
       "2065        0.302655                   0                0   \n",
       "\n",
       "      number vmail messages  total day minutes  total day calls  \\\n",
       "2408              -0.591778           0.971184               76   \n",
       "1675              -0.591778          -0.703977               95   \n",
       "498               -0.591778           0.581483               61   \n",
       "1919              -0.591778          -2.013446               94   \n",
       "1505              -0.591778           0.797573              120   \n",
       "1921              -0.591778          -1.442746              105   \n",
       "3312              -0.591778           0.925011              130   \n",
       "727               -0.591778           0.830818              111   \n",
       "1125              -0.591778          -0.692895               75   \n",
       "3179              -0.591778           0.236108              102   \n",
       "2951              -0.591778          -1.110300              113   \n",
       "2614              -0.591778           2.190154               78   \n",
       "2638              -0.591778          -1.005025              116   \n",
       "2056              -0.591778          -0.805557               92   \n",
       "2065              -0.591778           0.114211               55   \n",
       "\n",
       "      total eve minutes  total eve calls  total night minutes  \\\n",
       "2408          -0.946734              103             0.274826   \n",
       "1675           0.396685              100             0.524272   \n",
       "498           -1.893279              119            -0.497457   \n",
       "1919           0.289529              102             0.598108   \n",
       "1505           0.515747               98            -0.250007   \n",
       "1921           0.035529               99            -1.289697   \n",
       "3312          -1.123343               93             1.228707   \n",
       "727           -0.218470              101             0.410525   \n",
       "1125          -1.551967              106             0.572166   \n",
       "3179          -0.438735              118             0.274826   \n",
       "2951          -0.224423               84             1.104982   \n",
       "2614           1.378948              142            -1.866416   \n",
       "2638           1.200355               95             0.813629   \n",
       "2056           0.394700              110            -0.078389   \n",
       "2065           0.722122              105            -1.052225   \n",
       "\n",
       "      total night calls  total intl minutes  total intl calls  \\\n",
       "2408                107            0.090210                 2   \n",
       "1675                 71           -0.020060                 3   \n",
       "498                  63           -0.203843                 4   \n",
       "1919                125           -0.277356                 1   \n",
       "1505                125           -0.534653                 5   \n",
       "1921                119           -0.314113                 6   \n",
       "3312                110            1.450205                 4   \n",
       "727                 110           -0.387626                 2   \n",
       "1125                 94            0.935612                 9   \n",
       "3179                 74           -0.314113                 4   \n",
       "2951                108            0.972369                 7   \n",
       "2614                 84            0.715072                 2   \n",
       "2638                104            0.421019                 9   \n",
       "2056                116            1.119395                 7   \n",
       "2065                 83            0.715072                 6   \n",
       "\n",
       "      customer service calls  churn  predicted_churn  \n",
       "2408               -0.430249      0                0  \n",
       "1675               -1.333569      0                0  \n",
       "498                 1.828050      1                1  \n",
       "1919                1.828050      1                1  \n",
       "1505               -0.430249      0                0  \n",
       "1921                1.376390      0                0  \n",
       "3312                0.473071      0                0  \n",
       "727                -0.430249      0                0  \n",
       "1125                0.473071      0                0  \n",
       "3179               -0.430249      0                0  \n",
       "2951                0.473071      0                0  \n",
       "2614               -1.333569      1                1  \n",
       "2638                0.473071      0                0  \n",
       "2056                1.376390      0                0  \n",
       "2065               -0.430249      0                0  "
      ]
     },
     "execution_count": 58,
     "metadata": {},
     "output_type": "execute_result"
    }
   ],
   "source": [
    "# Visualizing the actual vs predicted.\n",
    "df.sample(15)"
   ]
  },
  {
   "cell_type": "markdown",
   "metadata": {},
   "source": [
    "### Observations\n",
    "* The Random Forest Model achieved an Accuracy of **98.5%** on the entire dataset.\n",
    "* The features related to the daily usage, such as **customer service calls** and **total day minutes**, appear to be the most influential in predicting customer churn. This suggests that the daily experience and interactions with customer service play a significant role in a customer's decision to stay with or leave the company.\n",
    "* The importance of **customer service calls** underscores the significance of customer interactions with the service department. A possible hypothesis could be that frequent calls to customer service might be indicative of issues or dissatisfaction, leading to churn."
   ]
  },
  {
   "cell_type": "markdown",
   "metadata": {},
   "source": [
    "# 6. Evaluation\n",
    "After implementing and analyzing three different models - Logistic Regression, Random Forest, and XGBoost, we can summarize our findings. In this section, we will evaluate and compare the performance of our three models\n",
    "\n",
    "### a). ROC-AUC Score:\n",
    "* **Baseline Model (Logistic Regression):** Achieved an ROC-AUC score of **0.7165**.\n",
    "* **Decision Tree:** Achieved an ROC-AUC score of **0.8199**.\n",
    "* **Random Forest:** Achieved an ROC-AUC score of **0.8370**.\n",
    "\n",
    "The Random Forest model outperformed both the baseline model and the Decision Tree, indicating its superior ability to differentiate between churn and non-churn customers.\n",
    "\n",
    "### b). Precision, Recall, and F1-Score:\n",
    "For the Churn class (which is of primary interest to us):\n",
    "* **Baseline Model** had a **precision** of **33.33%**, **recall** of **67.32%**, and an **F1-score** of **44.59%**.\n",
    "* **Decision Tree** had a **precision** of **60.83%**, **recall** of **72.28%**, and an **F1-score** of **66.06%**.\n",
    "* **Random Forest** had a **precision** of **76.5%**, a **recall** of **71.3%**, and an **F1-score** of **73.8%**.\n",
    "\n",
    "The Random Forest model and Decision Tree model showed a significant improvement over the Baseline Model in terms of precision, recall, and F1-score.\n",
    "\n",
    "### c). Confusion Matrix:\n",
    "**The Baseline Model** had a tendency to misclassify non-churn customers as churn, leading to more false positives.\n",
    "\n",
    "The **Decision Tree** and **Random Forest** models had fewer false positives and false negatives, demonstrating their superior classification capabilities.\n",
    "\n",
    "### d). Feature Importance:\n",
    "The **Random Forest** and **Decision Tree** models highlighted the most significant features were **'customer service calls'** and **'total day minutes'**.\n",
    "\n",
    "### e). Interpretability:\n",
    "While the **Baseline Model** provides coefficients for each feature, indicating their importance, it may not capture non-linear relationships between features and the target variable.\n",
    "\n",
    "**The Decision Tree** stands out in terms of interpretability. We can visualize the entire decision-making process, understanding which features play a role at each decision node.\n",
    "\n",
    "**Random Forest** being an ensemble model, loses some interpretability but gains in predictive performance. It demonstrated the best performance among the three models in terms of ROC-AUC, precision, recall, and F1-score."
   ]
  },
  {
   "cell_type": "markdown",
   "metadata": {},
   "source": [
    "# 7. Conclusions:\n",
    "Among the models we tested in predicting customer churn rates at SyriaTel Communications, the **Random Forest** emerged as the most effective in predicting customer churn, followed closely by the Decision Tree. Our baseline model, Logistic Regression, set a performance benchmark that the other two models surpassed.\n",
    "\n",
    "Features like **'customer service calls'**, and the **'total day minutes'**. were consistently highlighted as significant predictors of churn. This suggests that daily charges which had direct linear relationship with **daily minutes**, and the quality of customer service, are areas where customer dissatisfaction may arise, leading to churn."
   ]
  },
  {
   "cell_type": "markdown",
   "metadata": {},
   "source": [
    "# 8. Recommendations\n",
    "\n",
    "Focus on **Customer Service:** A significant number of customer service calls is a strong predictor of churn. This suggests that customers who experience issues or dissatisfaction often turn to customer service. Improving the quality and efficiency of customer service can lead to higher customer retention. This could vary from quick resolution time of issues to having personalised experiences through technologies such as Customer Relationship Management System (CRM)\n",
    "\n",
    "**Review Pricing Structure:** The **'Total day minutes'** feature emerged as a significant predictor. With the direct linear relationship it has with **'Total day charge'**, It would be worthwhile to analyze the pricing structure, especially for day-time charges, and see if it aligns with competitors and the perceived value by the customers.\n",
    "\n",
    "**Continuous Monitoring:** While we've identified key predictors of churn now, customer behaviors and preferences evolve. It's crucial to **continuously monitor** and update the model to reflect new data and insights. Implementing a real-time feedback loop will allow for timely interventions.\n",
    "\n",
    "**Expand Model Exploration:**\n",
    "While the Random Forest model performed well, there's always **room for improvement**. Advanced models, further hyperparameter tuning, and additional feature engineering could enhance predictive performance.\n",
    "\n",
    "**Engage with Customers:** SyriaTel should consider running targeted surveys or focus groups with customers, especially those identified as 'at-risk' by the model. Direct feedback can provide more context and depth to the insights gathered from the data.\n",
    "\n",
    "**Implement Retention Strategies:** For customers predicted to churn, consider implementing retention strategies such as loyalty programs, special offers, or personalized communications to improve their satisfaction and likelihood to stay.\n",
    "\n",
    "By proactively addressing the areas of concern highlighted by our models and implementing the above recommendations, SyriaTel can significantly mitigate customer churn and enhance customer loyalty and satisfaction."
   ]
  }
 ],
 "metadata": {
  "kernelspec": {
   "display_name": "Python 3",
   "language": "python",
   "name": "python3"
  },
  "language_info": {
   "codemirror_mode": {
    "name": "ipython",
    "version": 3
   },
   "file_extension": ".py",
   "mimetype": "text/x-python",
   "name": "python",
   "nbconvert_exporter": "python",
   "pygments_lexer": "ipython3",
   "version": "3.8.5"
  }
 },
 "nbformat": 4,
 "nbformat_minor": 2
}
